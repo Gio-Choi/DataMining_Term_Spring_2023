{
 "cells": [
  {
   "cell_type": "code",
   "execution_count": 1,
   "id": "4faade44",
   "metadata": {},
   "outputs": [],
   "source": [
    "import pandas as pd\n",
    "pd.set_option('display.max_columns', None)"
   ]
  },
  {
   "cell_type": "code",
   "execution_count": 9,
   "id": "d7b459f7",
   "metadata": {},
   "outputs": [],
   "source": [
    "df = pd.read_csv('Final_main_exercises_ard.csv')"
   ]
  },
  {
   "cell_type": "code",
   "execution_count": 10,
   "id": "d2b4c533",
   "metadata": {},
   "outputs": [
    {
     "data": {
      "text/html": [
       "<div>\n",
       "<style scoped>\n",
       "    .dataframe tbody tr th:only-of-type {\n",
       "        vertical-align: middle;\n",
       "    }\n",
       "\n",
       "    .dataframe tbody tr th {\n",
       "        vertical-align: top;\n",
       "    }\n",
       "\n",
       "    .dataframe thead th {\n",
       "        text-align: right;\n",
       "    }\n",
       "</style>\n",
       "<table border=\"1\" class=\"dataframe\">\n",
       "  <thead>\n",
       "    <tr style=\"text-align: right;\">\n",
       "      <th></th>\n",
       "      <th>CNTER_NM</th>\n",
       "      <th>AGE_NAME</th>\n",
       "      <th>GRADE</th>\n",
       "      <th>HE_ht</th>\n",
       "      <th>HE_wt</th>\n",
       "      <th>body_fat</th>\n",
       "      <th>HE_dbp</th>\n",
       "      <th>HE_sbp</th>\n",
       "      <th>l_average</th>\n",
       "      <th>r_average</th>\n",
       "      <th>FLEXIBILITY</th>\n",
       "      <th>HE_BMI</th>\n",
       "      <th>RELATIVE_GRIP</th>\n",
       "      <th>PROGRAM</th>\n",
       "      <th>exercises</th>\n",
       "      <th>sex</th>\n",
       "      <th>age</th>\n",
       "      <th>depression_scale</th>\n",
       "      <th>MultiLabel</th>\n",
       "    </tr>\n",
       "  </thead>\n",
       "  <tbody>\n",
       "    <tr>\n",
       "      <th>0</th>\n",
       "      <td>원주</td>\n",
       "      <td>성인</td>\n",
       "      <td>참가증</td>\n",
       "      <td>162.3</td>\n",
       "      <td>61.80</td>\n",
       "      <td>31.1</td>\n",
       "      <td>78.0</td>\n",
       "      <td>119.0</td>\n",
       "      <td>21.7</td>\n",
       "      <td>24.1</td>\n",
       "      <td>18.5</td>\n",
       "      <td>23.5</td>\n",
       "      <td>38.9</td>\n",
       "      <td>본운동:넙다리 뒤쪽 스트레칭,상지 루틴 스트레칭,전신 루틴 스트레칭,하지 루틴 스트...</td>\n",
       "      <td>{'전신루틴스트레칭', '팔벌려뛰기', '엎드려서다리차올리기', '앉았다일어서기',...</td>\n",
       "      <td>2</td>\n",
       "      <td>39.0</td>\n",
       "      <td>a</td>\n",
       "      <td>[1]</td>\n",
       "    </tr>\n",
       "    <tr>\n",
       "      <th>1</th>\n",
       "      <td>광명</td>\n",
       "      <td>성인</td>\n",
       "      <td>참가증</td>\n",
       "      <td>174.0</td>\n",
       "      <td>63.68</td>\n",
       "      <td>13.0</td>\n",
       "      <td>54.0</td>\n",
       "      <td>109.0</td>\n",
       "      <td>32.6</td>\n",
       "      <td>35.2</td>\n",
       "      <td>16.9</td>\n",
       "      <td>21.0</td>\n",
       "      <td>55.2</td>\n",
       "      <td>본운동:넙다리 뒤쪽 스트레칭,넙다리 앞쪽 스트레칭,작은 공을 이용한 동적 루틴 스트...</td>\n",
       "      <td>{'계단올라갔다내려오기', '앉았다일어서기', '넙다리앞쪽스트레칭', '넙다리뒤쪽스...</td>\n",
       "      <td>1</td>\n",
       "      <td>19.0</td>\n",
       "      <td>a</td>\n",
       "      <td>[0]</td>\n",
       "    </tr>\n",
       "    <tr>\n",
       "      <th>2</th>\n",
       "      <td>원주</td>\n",
       "      <td>성인</td>\n",
       "      <td>참가증</td>\n",
       "      <td>181.5</td>\n",
       "      <td>74.46</td>\n",
       "      <td>16.2</td>\n",
       "      <td>77.0</td>\n",
       "      <td>117.0</td>\n",
       "      <td>43.0</td>\n",
       "      <td>44.7</td>\n",
       "      <td>15.8</td>\n",
       "      <td>22.6</td>\n",
       "      <td>60.0</td>\n",
       "      <td>본운동:넙다리 뒤쪽 스트레칭,상지 루틴 스트레칭,전신 루틴 스트레칭,하지 루틴 스트...</td>\n",
       "      <td>{'팔벌려뛰기', '줄넘기', '하지루틴스트레칭1', '실외자전거타기', '전신루틴...</td>\n",
       "      <td>1</td>\n",
       "      <td>25.0</td>\n",
       "      <td>a</td>\n",
       "      <td>[9]</td>\n",
       "    </tr>\n",
       "    <tr>\n",
       "      <th>3</th>\n",
       "      <td>원주</td>\n",
       "      <td>성인</td>\n",
       "      <td>참가증</td>\n",
       "      <td>172.7</td>\n",
       "      <td>62.30</td>\n",
       "      <td>10.4</td>\n",
       "      <td>62.0</td>\n",
       "      <td>99.0</td>\n",
       "      <td>35.1</td>\n",
       "      <td>36.7</td>\n",
       "      <td>2.4</td>\n",
       "      <td>20.9</td>\n",
       "      <td>58.9</td>\n",
       "      <td>본운동:넙다리 뒤쪽 스트레칭,상지 루틴 스트레칭,전신 루틴 스트레칭,하지 루틴 스트...</td>\n",
       "      <td>{'전신루틴스트레칭', '무릎높여제자리달리기', '팔벌려뛰기', '엎드려서다리차올리...</td>\n",
       "      <td>1</td>\n",
       "      <td>19.0</td>\n",
       "      <td>a</td>\n",
       "      <td>[9]</td>\n",
       "    </tr>\n",
       "    <tr>\n",
       "      <th>4</th>\n",
       "      <td>원주</td>\n",
       "      <td>성인</td>\n",
       "      <td>참가증</td>\n",
       "      <td>171.0</td>\n",
       "      <td>71.98</td>\n",
       "      <td>14.9</td>\n",
       "      <td>66.0</td>\n",
       "      <td>120.0</td>\n",
       "      <td>34.4</td>\n",
       "      <td>43.5</td>\n",
       "      <td>-3.4</td>\n",
       "      <td>24.6</td>\n",
       "      <td>60.4</td>\n",
       "      <td>본운동:넙다리 뒤쪽 스트레칭,상지 루틴 스트레칭,전신 루틴 스트레칭,하지 루틴 스트...</td>\n",
       "      <td>{'전신루틴스트레칭', '엎드려서다리차올리기', '앉았다일어서기', '넙다리뒤쪽스트...</td>\n",
       "      <td>1</td>\n",
       "      <td>19.0</td>\n",
       "      <td>a</td>\n",
       "      <td>[9]</td>\n",
       "    </tr>\n",
       "    <tr>\n",
       "      <th>...</th>\n",
       "      <td>...</td>\n",
       "      <td>...</td>\n",
       "      <td>...</td>\n",
       "      <td>...</td>\n",
       "      <td>...</td>\n",
       "      <td>...</td>\n",
       "      <td>...</td>\n",
       "      <td>...</td>\n",
       "      <td>...</td>\n",
       "      <td>...</td>\n",
       "      <td>...</td>\n",
       "      <td>...</td>\n",
       "      <td>...</td>\n",
       "      <td>...</td>\n",
       "      <td>...</td>\n",
       "      <td>...</td>\n",
       "      <td>...</td>\n",
       "      <td>...</td>\n",
       "      <td>...</td>\n",
       "    </tr>\n",
       "    <tr>\n",
       "      <th>73752</th>\n",
       "      <td>서초</td>\n",
       "      <td>성인</td>\n",
       "      <td>참가증</td>\n",
       "      <td>171.1</td>\n",
       "      <td>68.00</td>\n",
       "      <td>23.4</td>\n",
       "      <td>76.0</td>\n",
       "      <td>126.0</td>\n",
       "      <td>37.7</td>\n",
       "      <td>37.6</td>\n",
       "      <td>13.6</td>\n",
       "      <td>23.2</td>\n",
       "      <td>55.4</td>\n",
       "      <td>준비운동:유산소 운동 전 동적 루틴 스트레칭 / 본운동:앉았다 일어서기,의자 앞에서...</td>\n",
       "      <td>{'네발기기자세로팔다리들기', '누워서엉덩이들어올리기', '앉았다일어서기', '누워...</td>\n",
       "      <td>1</td>\n",
       "      <td>25.0</td>\n",
       "      <td>a</td>\n",
       "      <td>[2, 3, 14, 21]</td>\n",
       "    </tr>\n",
       "    <tr>\n",
       "      <th>73753</th>\n",
       "      <td>서초</td>\n",
       "      <td>성인</td>\n",
       "      <td>참가증</td>\n",
       "      <td>145.9</td>\n",
       "      <td>46.20</td>\n",
       "      <td>30.7</td>\n",
       "      <td>76.0</td>\n",
       "      <td>119.0</td>\n",
       "      <td>19.6</td>\n",
       "      <td>21.3</td>\n",
       "      <td>7.5</td>\n",
       "      <td>21.7</td>\n",
       "      <td>46.1</td>\n",
       "      <td>준비운동:유산소 운동 전 동적 루틴 스트레칭 / 본운동:앉았다 일어서기,의자 앞에서...</td>\n",
       "      <td>{'네발기기자세로팔다리들기', '누워서엉덩이들어올리기', '앉았다일어서기', '누워...</td>\n",
       "      <td>2</td>\n",
       "      <td>21.0</td>\n",
       "      <td>b</td>\n",
       "      <td>[2, 3, 14, 21]</td>\n",
       "    </tr>\n",
       "    <tr>\n",
       "      <th>73754</th>\n",
       "      <td>서초</td>\n",
       "      <td>성인</td>\n",
       "      <td>참가증</td>\n",
       "      <td>174.7</td>\n",
       "      <td>59.10</td>\n",
       "      <td>9.4</td>\n",
       "      <td>75.0</td>\n",
       "      <td>123.0</td>\n",
       "      <td>46.1</td>\n",
       "      <td>45.4</td>\n",
       "      <td>29.1</td>\n",
       "      <td>19.4</td>\n",
       "      <td>78.0</td>\n",
       "      <td>준비운동:유산소 운동 전 동적 루틴 스트레칭 / 본운동:앉았다 일어서기,의자 앞에서...</td>\n",
       "      <td>{'네발기기자세로팔다리들기', '누워서엉덩이들어올리기', '앉았다일어서기', '누워...</td>\n",
       "      <td>1</td>\n",
       "      <td>22.0</td>\n",
       "      <td>b</td>\n",
       "      <td>[2, 3, 14, 21]</td>\n",
       "    </tr>\n",
       "    <tr>\n",
       "      <th>73755</th>\n",
       "      <td>계룡</td>\n",
       "      <td>성인</td>\n",
       "      <td>2등급</td>\n",
       "      <td>165.5</td>\n",
       "      <td>61.10</td>\n",
       "      <td>27.9</td>\n",
       "      <td>58.0</td>\n",
       "      <td>117.0</td>\n",
       "      <td>24.0</td>\n",
       "      <td>29.3</td>\n",
       "      <td>22.3</td>\n",
       "      <td>22.3</td>\n",
       "      <td>48.0</td>\n",
       "      <td>준비운동:하지 루틴 스트레칭1,상지 루틴 스트레칭 / 본운동:앉았다 일어서기,한발 ...</td>\n",
       "      <td>{'계단올라갔다내려오기', '몸통옆으로굽히기', '서서균형잡기', '앉았다일어서기'...</td>\n",
       "      <td>2</td>\n",
       "      <td>23.0</td>\n",
       "      <td>a</td>\n",
       "      <td>[0, 1, 5, 9, 16, 27, 28]</td>\n",
       "    </tr>\n",
       "    <tr>\n",
       "      <th>73756</th>\n",
       "      <td>진천</td>\n",
       "      <td>성인</td>\n",
       "      <td>2등급</td>\n",
       "      <td>173.9</td>\n",
       "      <td>60.70</td>\n",
       "      <td>12.1</td>\n",
       "      <td>79.0</td>\n",
       "      <td>134.0</td>\n",
       "      <td>40.9</td>\n",
       "      <td>42.9</td>\n",
       "      <td>18.7</td>\n",
       "      <td>20.1</td>\n",
       "      <td>70.7</td>\n",
       "      <td>준비운동:전신 루틴 스트레칭,유산소 운동 전 동적 루틴 스트레칭,짐볼을 이용한 동적...</td>\n",
       "      <td>{'계단올라갔다내려오기', '누워서엉덩이들어올리기', '앉았다일어서기', '엎드려버...</td>\n",
       "      <td>1</td>\n",
       "      <td>20.0</td>\n",
       "      <td>a</td>\n",
       "      <td>[0, 1, 5, 9, 16, 27, 28]</td>\n",
       "    </tr>\n",
       "  </tbody>\n",
       "</table>\n",
       "<p>73757 rows × 19 columns</p>\n",
       "</div>"
      ],
      "text/plain": [
       "      CNTER_NM AGE_NAME GRADE  HE_ht  HE_wt  body_fat  HE_dbp  HE_sbp  \\\n",
       "0           원주       성인   참가증  162.3  61.80      31.1    78.0   119.0   \n",
       "1           광명       성인   참가증  174.0  63.68      13.0    54.0   109.0   \n",
       "2           원주       성인   참가증  181.5  74.46      16.2    77.0   117.0   \n",
       "3           원주       성인   참가증  172.7  62.30      10.4    62.0    99.0   \n",
       "4           원주       성인   참가증  171.0  71.98      14.9    66.0   120.0   \n",
       "...        ...      ...   ...    ...    ...       ...     ...     ...   \n",
       "73752       서초       성인   참가증  171.1  68.00      23.4    76.0   126.0   \n",
       "73753       서초       성인   참가증  145.9  46.20      30.7    76.0   119.0   \n",
       "73754       서초       성인   참가증  174.7  59.10       9.4    75.0   123.0   \n",
       "73755       계룡       성인   2등급  165.5  61.10      27.9    58.0   117.0   \n",
       "73756       진천       성인   2등급  173.9  60.70      12.1    79.0   134.0   \n",
       "\n",
       "       l_average  r_average  FLEXIBILITY  HE_BMI  RELATIVE_GRIP  \\\n",
       "0           21.7       24.1         18.5    23.5           38.9   \n",
       "1           32.6       35.2         16.9    21.0           55.2   \n",
       "2           43.0       44.7         15.8    22.6           60.0   \n",
       "3           35.1       36.7          2.4    20.9           58.9   \n",
       "4           34.4       43.5         -3.4    24.6           60.4   \n",
       "...          ...        ...          ...     ...            ...   \n",
       "73752       37.7       37.6         13.6    23.2           55.4   \n",
       "73753       19.6       21.3          7.5    21.7           46.1   \n",
       "73754       46.1       45.4         29.1    19.4           78.0   \n",
       "73755       24.0       29.3         22.3    22.3           48.0   \n",
       "73756       40.9       42.9         18.7    20.1           70.7   \n",
       "\n",
       "                                                 PROGRAM  \\\n",
       "0      본운동:넙다리 뒤쪽 스트레칭,상지 루틴 스트레칭,전신 루틴 스트레칭,하지 루틴 스트...   \n",
       "1      본운동:넙다리 뒤쪽 스트레칭,넙다리 앞쪽 스트레칭,작은 공을 이용한 동적 루틴 스트...   \n",
       "2      본운동:넙다리 뒤쪽 스트레칭,상지 루틴 스트레칭,전신 루틴 스트레칭,하지 루틴 스트...   \n",
       "3      본운동:넙다리 뒤쪽 스트레칭,상지 루틴 스트레칭,전신 루틴 스트레칭,하지 루틴 스트...   \n",
       "4      본운동:넙다리 뒤쪽 스트레칭,상지 루틴 스트레칭,전신 루틴 스트레칭,하지 루틴 스트...   \n",
       "...                                                  ...   \n",
       "73752  준비운동:유산소 운동 전 동적 루틴 스트레칭 / 본운동:앉았다 일어서기,의자 앞에서...   \n",
       "73753  준비운동:유산소 운동 전 동적 루틴 스트레칭 / 본운동:앉았다 일어서기,의자 앞에서...   \n",
       "73754  준비운동:유산소 운동 전 동적 루틴 스트레칭 / 본운동:앉았다 일어서기,의자 앞에서...   \n",
       "73755  준비운동:하지 루틴 스트레칭1,상지 루틴 스트레칭 / 본운동:앉았다 일어서기,한발 ...   \n",
       "73756  준비운동:전신 루틴 스트레칭,유산소 운동 전 동적 루틴 스트레칭,짐볼을 이용한 동적...   \n",
       "\n",
       "                                               exercises  sex   age  \\\n",
       "0      {'전신루틴스트레칭', '팔벌려뛰기', '엎드려서다리차올리기', '앉았다일어서기',...    2  39.0   \n",
       "1      {'계단올라갔다내려오기', '앉았다일어서기', '넙다리앞쪽스트레칭', '넙다리뒤쪽스...    1  19.0   \n",
       "2      {'팔벌려뛰기', '줄넘기', '하지루틴스트레칭1', '실외자전거타기', '전신루틴...    1  25.0   \n",
       "3      {'전신루틴스트레칭', '무릎높여제자리달리기', '팔벌려뛰기', '엎드려서다리차올리...    1  19.0   \n",
       "4      {'전신루틴스트레칭', '엎드려서다리차올리기', '앉았다일어서기', '넙다리뒤쪽스트...    1  19.0   \n",
       "...                                                  ...  ...   ...   \n",
       "73752  {'네발기기자세로팔다리들기', '누워서엉덩이들어올리기', '앉았다일어서기', '누워...    1  25.0   \n",
       "73753  {'네발기기자세로팔다리들기', '누워서엉덩이들어올리기', '앉았다일어서기', '누워...    2  21.0   \n",
       "73754  {'네발기기자세로팔다리들기', '누워서엉덩이들어올리기', '앉았다일어서기', '누워...    1  22.0   \n",
       "73755  {'계단올라갔다내려오기', '몸통옆으로굽히기', '서서균형잡기', '앉았다일어서기'...    2  23.0   \n",
       "73756  {'계단올라갔다내려오기', '누워서엉덩이들어올리기', '앉았다일어서기', '엎드려버...    1  20.0   \n",
       "\n",
       "      depression_scale                MultiLabel  \n",
       "0                    a                       [1]  \n",
       "1                    a                       [0]  \n",
       "2                    a                       [9]  \n",
       "3                    a                       [9]  \n",
       "4                    a                       [9]  \n",
       "...                ...                       ...  \n",
       "73752                a            [2, 3, 14, 21]  \n",
       "73753                b            [2, 3, 14, 21]  \n",
       "73754                b            [2, 3, 14, 21]  \n",
       "73755                a  [0, 1, 5, 9, 16, 27, 28]  \n",
       "73756                a  [0, 1, 5, 9, 16, 27, 28]  \n",
       "\n",
       "[73757 rows x 19 columns]"
      ]
     },
     "execution_count": 10,
     "metadata": {},
     "output_type": "execute_result"
    }
   ],
   "source": [
    "df"
   ]
  },
  {
   "cell_type": "markdown",
   "id": "6bd3d980",
   "metadata": {},
   "source": [
    "## 필요없는 feature 제거\n",
    "transaction number, 지역, 출장여부, 참가자등급, 날짜 .. 등등"
   ]
  },
  {
   "cell_type": "code",
   "execution_count": 11,
   "id": "8239c25d",
   "metadata": {},
   "outputs": [
    {
     "data": {
      "text/plain": [
       "Index(['CNTER_NM', 'AGE_NAME', 'GRADE', 'HE_ht', 'HE_wt', 'body_fat', 'HE_dbp',\n",
       "       'HE_sbp', 'l_average', 'r_average', 'FLEXIBILITY', 'HE_BMI',\n",
       "       'RELATIVE_GRIP', 'PROGRAM', 'exercises', 'sex', 'age',\n",
       "       'depression_scale', 'MultiLabel'],\n",
       "      dtype='object')"
      ]
     },
     "execution_count": 11,
     "metadata": {},
     "output_type": "execute_result"
    }
   ],
   "source": [
    "# features\n",
    "df.columns"
   ]
  },
  {
   "cell_type": "code",
   "execution_count": 12,
   "id": "966abba8",
   "metadata": {},
   "outputs": [
    {
     "data": {
      "text/html": [
       "<div>\n",
       "<style scoped>\n",
       "    .dataframe tbody tr th:only-of-type {\n",
       "        vertical-align: middle;\n",
       "    }\n",
       "\n",
       "    .dataframe tbody tr th {\n",
       "        vertical-align: top;\n",
       "    }\n",
       "\n",
       "    .dataframe thead th {\n",
       "        text-align: right;\n",
       "    }\n",
       "</style>\n",
       "<table border=\"1\" class=\"dataframe\">\n",
       "  <thead>\n",
       "    <tr style=\"text-align: right;\">\n",
       "      <th></th>\n",
       "      <th>body_fat</th>\n",
       "      <th>HE_dbp</th>\n",
       "      <th>HE_sbp</th>\n",
       "      <th>l_average</th>\n",
       "      <th>r_average</th>\n",
       "      <th>FLEXIBILITY</th>\n",
       "      <th>HE_BMI</th>\n",
       "      <th>RELATIVE_GRIP</th>\n",
       "      <th>sex</th>\n",
       "      <th>age</th>\n",
       "      <th>depression_scale</th>\n",
       "      <th>MultiLabel</th>\n",
       "    </tr>\n",
       "  </thead>\n",
       "  <tbody>\n",
       "    <tr>\n",
       "      <th>0</th>\n",
       "      <td>31.1</td>\n",
       "      <td>78.0</td>\n",
       "      <td>119.0</td>\n",
       "      <td>21.7</td>\n",
       "      <td>24.1</td>\n",
       "      <td>18.5</td>\n",
       "      <td>23.5</td>\n",
       "      <td>38.9</td>\n",
       "      <td>2</td>\n",
       "      <td>39.0</td>\n",
       "      <td>a</td>\n",
       "      <td>[1]</td>\n",
       "    </tr>\n",
       "    <tr>\n",
       "      <th>1</th>\n",
       "      <td>13.0</td>\n",
       "      <td>54.0</td>\n",
       "      <td>109.0</td>\n",
       "      <td>32.6</td>\n",
       "      <td>35.2</td>\n",
       "      <td>16.9</td>\n",
       "      <td>21.0</td>\n",
       "      <td>55.2</td>\n",
       "      <td>1</td>\n",
       "      <td>19.0</td>\n",
       "      <td>a</td>\n",
       "      <td>[0]</td>\n",
       "    </tr>\n",
       "    <tr>\n",
       "      <th>2</th>\n",
       "      <td>16.2</td>\n",
       "      <td>77.0</td>\n",
       "      <td>117.0</td>\n",
       "      <td>43.0</td>\n",
       "      <td>44.7</td>\n",
       "      <td>15.8</td>\n",
       "      <td>22.6</td>\n",
       "      <td>60.0</td>\n",
       "      <td>1</td>\n",
       "      <td>25.0</td>\n",
       "      <td>a</td>\n",
       "      <td>[9]</td>\n",
       "    </tr>\n",
       "    <tr>\n",
       "      <th>3</th>\n",
       "      <td>10.4</td>\n",
       "      <td>62.0</td>\n",
       "      <td>99.0</td>\n",
       "      <td>35.1</td>\n",
       "      <td>36.7</td>\n",
       "      <td>2.4</td>\n",
       "      <td>20.9</td>\n",
       "      <td>58.9</td>\n",
       "      <td>1</td>\n",
       "      <td>19.0</td>\n",
       "      <td>a</td>\n",
       "      <td>[9]</td>\n",
       "    </tr>\n",
       "    <tr>\n",
       "      <th>4</th>\n",
       "      <td>14.9</td>\n",
       "      <td>66.0</td>\n",
       "      <td>120.0</td>\n",
       "      <td>34.4</td>\n",
       "      <td>43.5</td>\n",
       "      <td>-3.4</td>\n",
       "      <td>24.6</td>\n",
       "      <td>60.4</td>\n",
       "      <td>1</td>\n",
       "      <td>19.0</td>\n",
       "      <td>a</td>\n",
       "      <td>[9]</td>\n",
       "    </tr>\n",
       "    <tr>\n",
       "      <th>...</th>\n",
       "      <td>...</td>\n",
       "      <td>...</td>\n",
       "      <td>...</td>\n",
       "      <td>...</td>\n",
       "      <td>...</td>\n",
       "      <td>...</td>\n",
       "      <td>...</td>\n",
       "      <td>...</td>\n",
       "      <td>...</td>\n",
       "      <td>...</td>\n",
       "      <td>...</td>\n",
       "      <td>...</td>\n",
       "    </tr>\n",
       "    <tr>\n",
       "      <th>73752</th>\n",
       "      <td>23.4</td>\n",
       "      <td>76.0</td>\n",
       "      <td>126.0</td>\n",
       "      <td>37.7</td>\n",
       "      <td>37.6</td>\n",
       "      <td>13.6</td>\n",
       "      <td>23.2</td>\n",
       "      <td>55.4</td>\n",
       "      <td>1</td>\n",
       "      <td>25.0</td>\n",
       "      <td>a</td>\n",
       "      <td>[2, 3, 14, 21]</td>\n",
       "    </tr>\n",
       "    <tr>\n",
       "      <th>73753</th>\n",
       "      <td>30.7</td>\n",
       "      <td>76.0</td>\n",
       "      <td>119.0</td>\n",
       "      <td>19.6</td>\n",
       "      <td>21.3</td>\n",
       "      <td>7.5</td>\n",
       "      <td>21.7</td>\n",
       "      <td>46.1</td>\n",
       "      <td>2</td>\n",
       "      <td>21.0</td>\n",
       "      <td>b</td>\n",
       "      <td>[2, 3, 14, 21]</td>\n",
       "    </tr>\n",
       "    <tr>\n",
       "      <th>73754</th>\n",
       "      <td>9.4</td>\n",
       "      <td>75.0</td>\n",
       "      <td>123.0</td>\n",
       "      <td>46.1</td>\n",
       "      <td>45.4</td>\n",
       "      <td>29.1</td>\n",
       "      <td>19.4</td>\n",
       "      <td>78.0</td>\n",
       "      <td>1</td>\n",
       "      <td>22.0</td>\n",
       "      <td>b</td>\n",
       "      <td>[2, 3, 14, 21]</td>\n",
       "    </tr>\n",
       "    <tr>\n",
       "      <th>73755</th>\n",
       "      <td>27.9</td>\n",
       "      <td>58.0</td>\n",
       "      <td>117.0</td>\n",
       "      <td>24.0</td>\n",
       "      <td>29.3</td>\n",
       "      <td>22.3</td>\n",
       "      <td>22.3</td>\n",
       "      <td>48.0</td>\n",
       "      <td>2</td>\n",
       "      <td>23.0</td>\n",
       "      <td>a</td>\n",
       "      <td>[0, 1, 5, 9, 16, 27, 28]</td>\n",
       "    </tr>\n",
       "    <tr>\n",
       "      <th>73756</th>\n",
       "      <td>12.1</td>\n",
       "      <td>79.0</td>\n",
       "      <td>134.0</td>\n",
       "      <td>40.9</td>\n",
       "      <td>42.9</td>\n",
       "      <td>18.7</td>\n",
       "      <td>20.1</td>\n",
       "      <td>70.7</td>\n",
       "      <td>1</td>\n",
       "      <td>20.0</td>\n",
       "      <td>a</td>\n",
       "      <td>[0, 1, 5, 9, 16, 27, 28]</td>\n",
       "    </tr>\n",
       "  </tbody>\n",
       "</table>\n",
       "<p>73757 rows × 12 columns</p>\n",
       "</div>"
      ],
      "text/plain": [
       "       body_fat  HE_dbp  HE_sbp  l_average  r_average  FLEXIBILITY  HE_BMI  \\\n",
       "0          31.1    78.0   119.0       21.7       24.1         18.5    23.5   \n",
       "1          13.0    54.0   109.0       32.6       35.2         16.9    21.0   \n",
       "2          16.2    77.0   117.0       43.0       44.7         15.8    22.6   \n",
       "3          10.4    62.0    99.0       35.1       36.7          2.4    20.9   \n",
       "4          14.9    66.0   120.0       34.4       43.5         -3.4    24.6   \n",
       "...         ...     ...     ...        ...        ...          ...     ...   \n",
       "73752      23.4    76.0   126.0       37.7       37.6         13.6    23.2   \n",
       "73753      30.7    76.0   119.0       19.6       21.3          7.5    21.7   \n",
       "73754       9.4    75.0   123.0       46.1       45.4         29.1    19.4   \n",
       "73755      27.9    58.0   117.0       24.0       29.3         22.3    22.3   \n",
       "73756      12.1    79.0   134.0       40.9       42.9         18.7    20.1   \n",
       "\n",
       "       RELATIVE_GRIP  sex   age depression_scale                MultiLabel  \n",
       "0               38.9    2  39.0                a                       [1]  \n",
       "1               55.2    1  19.0                a                       [0]  \n",
       "2               60.0    1  25.0                a                       [9]  \n",
       "3               58.9    1  19.0                a                       [9]  \n",
       "4               60.4    1  19.0                a                       [9]  \n",
       "...              ...  ...   ...              ...                       ...  \n",
       "73752           55.4    1  25.0                a            [2, 3, 14, 21]  \n",
       "73753           46.1    2  21.0                b            [2, 3, 14, 21]  \n",
       "73754           78.0    1  22.0                b            [2, 3, 14, 21]  \n",
       "73755           48.0    2  23.0                a  [0, 1, 5, 9, 16, 27, 28]  \n",
       "73756           70.7    1  20.0                a  [0, 1, 5, 9, 16, 27, 28]  \n",
       "\n",
       "[73757 rows x 12 columns]"
      ]
     },
     "execution_count": 12,
     "metadata": {},
     "output_type": "execute_result"
    }
   ],
   "source": [
    "# Drop columns\n",
    "df = df.drop(columns = [ 'HE_ht','HE_wt','CNTER_NM', 'AGE_NAME', 'GRADE', 'PROGRAM', 'exercises'])\n",
    "\n",
    "# df = df.drop(df.iloc[:,15:],axis = 1)\n",
    "\n",
    "df"
   ]
  },
  {
   "cell_type": "markdown",
   "id": "b0f02578",
   "metadata": {},
   "source": [
    "## 연령대 categorical data -> one-hot encoding"
   ]
  },
  {
   "cell_type": "code",
   "execution_count": 13,
   "id": "96691334",
   "metadata": {},
   "outputs": [],
   "source": [
    "# df['AGRDE_FLAG_NM'].unique()"
   ]
  },
  {
   "cell_type": "code",
   "execution_count": 14,
   "id": "b7d950df",
   "metadata": {},
   "outputs": [],
   "source": [
    "# df.loc[df['AGRDE_FLAG_NM'] == '성인', \"AGRDE_FLAG_NM\"] = '0'\n",
    "# df.loc[df['AGRDE_FLAG_NM'] == '노인', \"AGRDE_FLAG_NM\"] = '1'\n",
    "# df.loc[df['AGRDE_FLAG_NM'] == '청소년', \"AGRDE_FLAG_NM\"] = '2'\n",
    "# df.loc[df['AGRDE_FLAG_NM'] == '유소년', \"AGRDE_FLAG_NM\"] = '3'\n",
    "\n",
    "# df"
   ]
  },
  {
   "cell_type": "markdown",
   "id": "5229e030",
   "metadata": {},
   "source": [
    "## Depression scale categorical data -> one-hot encoding"
   ]
  },
  {
   "cell_type": "code",
   "execution_count": 41,
   "id": "f23b5cb8",
   "metadata": {},
   "outputs": [
    {
     "data": {
      "text/plain": [
       "array(['a', 'b', 'c', 'd'], dtype=object)"
      ]
     },
     "execution_count": 41,
     "metadata": {},
     "output_type": "execute_result"
    }
   ],
   "source": [
    "df['depression_scale'].unique()"
   ]
  },
  {
   "cell_type": "code",
   "execution_count": 42,
   "id": "96719bc8",
   "metadata": {},
   "outputs": [
    {
     "data": {
      "text/html": [
       "<div>\n",
       "<style scoped>\n",
       "    .dataframe tbody tr th:only-of-type {\n",
       "        vertical-align: middle;\n",
       "    }\n",
       "\n",
       "    .dataframe tbody tr th {\n",
       "        vertical-align: top;\n",
       "    }\n",
       "\n",
       "    .dataframe thead th {\n",
       "        text-align: right;\n",
       "    }\n",
       "</style>\n",
       "<table border=\"1\" class=\"dataframe\">\n",
       "  <thead>\n",
       "    <tr style=\"text-align: right;\">\n",
       "      <th></th>\n",
       "      <th>body_fat</th>\n",
       "      <th>HE_dbp</th>\n",
       "      <th>HE_sbp</th>\n",
       "      <th>l_average</th>\n",
       "      <th>r_average</th>\n",
       "      <th>FLEXIBILITY</th>\n",
       "      <th>HE_BMI</th>\n",
       "      <th>RELATIVE_GRIP</th>\n",
       "      <th>sex</th>\n",
       "      <th>age</th>\n",
       "      <th>depression_scale</th>\n",
       "      <th>MultiLabel</th>\n",
       "    </tr>\n",
       "  </thead>\n",
       "  <tbody>\n",
       "    <tr>\n",
       "      <th>0</th>\n",
       "      <td>31.1</td>\n",
       "      <td>78.0</td>\n",
       "      <td>119.0</td>\n",
       "      <td>21.7</td>\n",
       "      <td>24.1</td>\n",
       "      <td>18.5</td>\n",
       "      <td>23.5</td>\n",
       "      <td>38.9</td>\n",
       "      <td>2</td>\n",
       "      <td>39.0</td>\n",
       "      <td>0</td>\n",
       "      <td>[1]</td>\n",
       "    </tr>\n",
       "    <tr>\n",
       "      <th>1</th>\n",
       "      <td>13.0</td>\n",
       "      <td>54.0</td>\n",
       "      <td>109.0</td>\n",
       "      <td>32.6</td>\n",
       "      <td>35.2</td>\n",
       "      <td>16.9</td>\n",
       "      <td>21.0</td>\n",
       "      <td>55.2</td>\n",
       "      <td>1</td>\n",
       "      <td>19.0</td>\n",
       "      <td>0</td>\n",
       "      <td>[0]</td>\n",
       "    </tr>\n",
       "    <tr>\n",
       "      <th>2</th>\n",
       "      <td>16.2</td>\n",
       "      <td>77.0</td>\n",
       "      <td>117.0</td>\n",
       "      <td>43.0</td>\n",
       "      <td>44.7</td>\n",
       "      <td>15.8</td>\n",
       "      <td>22.6</td>\n",
       "      <td>60.0</td>\n",
       "      <td>1</td>\n",
       "      <td>25.0</td>\n",
       "      <td>0</td>\n",
       "      <td>[9]</td>\n",
       "    </tr>\n",
       "    <tr>\n",
       "      <th>3</th>\n",
       "      <td>10.4</td>\n",
       "      <td>62.0</td>\n",
       "      <td>99.0</td>\n",
       "      <td>35.1</td>\n",
       "      <td>36.7</td>\n",
       "      <td>2.4</td>\n",
       "      <td>20.9</td>\n",
       "      <td>58.9</td>\n",
       "      <td>1</td>\n",
       "      <td>19.0</td>\n",
       "      <td>0</td>\n",
       "      <td>[9]</td>\n",
       "    </tr>\n",
       "    <tr>\n",
       "      <th>4</th>\n",
       "      <td>14.9</td>\n",
       "      <td>66.0</td>\n",
       "      <td>120.0</td>\n",
       "      <td>34.4</td>\n",
       "      <td>43.5</td>\n",
       "      <td>-3.4</td>\n",
       "      <td>24.6</td>\n",
       "      <td>60.4</td>\n",
       "      <td>1</td>\n",
       "      <td>19.0</td>\n",
       "      <td>0</td>\n",
       "      <td>[9]</td>\n",
       "    </tr>\n",
       "    <tr>\n",
       "      <th>...</th>\n",
       "      <td>...</td>\n",
       "      <td>...</td>\n",
       "      <td>...</td>\n",
       "      <td>...</td>\n",
       "      <td>...</td>\n",
       "      <td>...</td>\n",
       "      <td>...</td>\n",
       "      <td>...</td>\n",
       "      <td>...</td>\n",
       "      <td>...</td>\n",
       "      <td>...</td>\n",
       "      <td>...</td>\n",
       "    </tr>\n",
       "    <tr>\n",
       "      <th>73752</th>\n",
       "      <td>23.4</td>\n",
       "      <td>76.0</td>\n",
       "      <td>126.0</td>\n",
       "      <td>37.7</td>\n",
       "      <td>37.6</td>\n",
       "      <td>13.6</td>\n",
       "      <td>23.2</td>\n",
       "      <td>55.4</td>\n",
       "      <td>1</td>\n",
       "      <td>25.0</td>\n",
       "      <td>0</td>\n",
       "      <td>[2, 3, 14, 21]</td>\n",
       "    </tr>\n",
       "    <tr>\n",
       "      <th>73753</th>\n",
       "      <td>30.7</td>\n",
       "      <td>76.0</td>\n",
       "      <td>119.0</td>\n",
       "      <td>19.6</td>\n",
       "      <td>21.3</td>\n",
       "      <td>7.5</td>\n",
       "      <td>21.7</td>\n",
       "      <td>46.1</td>\n",
       "      <td>2</td>\n",
       "      <td>21.0</td>\n",
       "      <td>1</td>\n",
       "      <td>[2, 3, 14, 21]</td>\n",
       "    </tr>\n",
       "    <tr>\n",
       "      <th>73754</th>\n",
       "      <td>9.4</td>\n",
       "      <td>75.0</td>\n",
       "      <td>123.0</td>\n",
       "      <td>46.1</td>\n",
       "      <td>45.4</td>\n",
       "      <td>29.1</td>\n",
       "      <td>19.4</td>\n",
       "      <td>78.0</td>\n",
       "      <td>1</td>\n",
       "      <td>22.0</td>\n",
       "      <td>1</td>\n",
       "      <td>[2, 3, 14, 21]</td>\n",
       "    </tr>\n",
       "    <tr>\n",
       "      <th>73755</th>\n",
       "      <td>27.9</td>\n",
       "      <td>58.0</td>\n",
       "      <td>117.0</td>\n",
       "      <td>24.0</td>\n",
       "      <td>29.3</td>\n",
       "      <td>22.3</td>\n",
       "      <td>22.3</td>\n",
       "      <td>48.0</td>\n",
       "      <td>2</td>\n",
       "      <td>23.0</td>\n",
       "      <td>0</td>\n",
       "      <td>[0, 1, 5, 9, 16, 27, 28]</td>\n",
       "    </tr>\n",
       "    <tr>\n",
       "      <th>73756</th>\n",
       "      <td>12.1</td>\n",
       "      <td>79.0</td>\n",
       "      <td>134.0</td>\n",
       "      <td>40.9</td>\n",
       "      <td>42.9</td>\n",
       "      <td>18.7</td>\n",
       "      <td>20.1</td>\n",
       "      <td>70.7</td>\n",
       "      <td>1</td>\n",
       "      <td>20.0</td>\n",
       "      <td>0</td>\n",
       "      <td>[0, 1, 5, 9, 16, 27, 28]</td>\n",
       "    </tr>\n",
       "  </tbody>\n",
       "</table>\n",
       "<p>73757 rows × 12 columns</p>\n",
       "</div>"
      ],
      "text/plain": [
       "       body_fat  HE_dbp  HE_sbp  l_average  r_average  FLEXIBILITY  HE_BMI  \\\n",
       "0          31.1    78.0   119.0       21.7       24.1         18.5    23.5   \n",
       "1          13.0    54.0   109.0       32.6       35.2         16.9    21.0   \n",
       "2          16.2    77.0   117.0       43.0       44.7         15.8    22.6   \n",
       "3          10.4    62.0    99.0       35.1       36.7          2.4    20.9   \n",
       "4          14.9    66.0   120.0       34.4       43.5         -3.4    24.6   \n",
       "...         ...     ...     ...        ...        ...          ...     ...   \n",
       "73752      23.4    76.0   126.0       37.7       37.6         13.6    23.2   \n",
       "73753      30.7    76.0   119.0       19.6       21.3          7.5    21.7   \n",
       "73754       9.4    75.0   123.0       46.1       45.4         29.1    19.4   \n",
       "73755      27.9    58.0   117.0       24.0       29.3         22.3    22.3   \n",
       "73756      12.1    79.0   134.0       40.9       42.9         18.7    20.1   \n",
       "\n",
       "       RELATIVE_GRIP  sex   age depression_scale                MultiLabel  \n",
       "0               38.9    2  39.0                0                       [1]  \n",
       "1               55.2    1  19.0                0                       [0]  \n",
       "2               60.0    1  25.0                0                       [9]  \n",
       "3               58.9    1  19.0                0                       [9]  \n",
       "4               60.4    1  19.0                0                       [9]  \n",
       "...              ...  ...   ...              ...                       ...  \n",
       "73752           55.4    1  25.0                0            [2, 3, 14, 21]  \n",
       "73753           46.1    2  21.0                1            [2, 3, 14, 21]  \n",
       "73754           78.0    1  22.0                1            [2, 3, 14, 21]  \n",
       "73755           48.0    2  23.0                0  [0, 1, 5, 9, 16, 27, 28]  \n",
       "73756           70.7    1  20.0                0  [0, 1, 5, 9, 16, 27, 28]  \n",
       "\n",
       "[73757 rows x 12 columns]"
      ]
     },
     "execution_count": 42,
     "metadata": {},
     "output_type": "execute_result"
    }
   ],
   "source": [
    "df.loc[df['depression_scale'] == 'a', \"depression_scale\"] = '0'\n",
    "df.loc[df['depression_scale'] == 'b', \"depression_scale\"] = '1'\n",
    "df.loc[df['depression_scale'] == 'c', \"depression_scale\"] = '2'\n",
    "df.loc[df['depression_scale'] == 'd', \"depression_scale\"] = '0'\n",
    "\n",
    "df"
   ]
  },
  {
   "cell_type": "markdown",
   "id": "e296d9ff",
   "metadata": {},
   "source": [
    "## Train, Test Set Split"
   ]
  },
  {
   "cell_type": "code",
   "execution_count": 44,
   "id": "d5c39802",
   "metadata": {},
   "outputs": [
    {
     "data": {
      "text/plain": [
       "array([[31.1, 78.0, 119.0, ..., 39.0, '0', '[1]'],\n",
       "       [13.0, 54.0, 109.0, ..., 19.0, '0', '[0]'],\n",
       "       [16.2, 77.0, 117.0, ..., 25.0, '0', '[9]'],\n",
       "       ...,\n",
       "       [9.4, 75.0, 123.0, ..., 22.0, '1', '[2, 3, 14, 21]'],\n",
       "       [27.9, 58.0, 117.0, ..., 23.0, '0', '[0, 1, 5, 9, 16, 27, 28]'],\n",
       "       [12.1, 79.0, 134.0, ..., 20.0, '0', '[0, 1, 5, 9, 16, 27, 28]']],\n",
       "      dtype=object)"
      ]
     },
     "execution_count": 44,
     "metadata": {},
     "output_type": "execute_result"
    }
   ],
   "source": [
    "dataset = df.values\n",
    "dataset"
   ]
  },
  {
   "cell_type": "code",
   "execution_count": 45,
   "id": "6bff0d01",
   "metadata": {},
   "outputs": [
    {
     "name": "stdout",
     "output_type": "stream",
     "text": [
      "훈련 데이터 개수 :  59005\n",
      "테스트 데이터 개수 :  14752\n"
     ]
    }
   ],
   "source": [
    "from sklearn.model_selection import train_test_split\n",
    "\n",
    "train_data, test_data = train_test_split(dataset, test_size = 0.2, random_state = 42)\n",
    "print(\"훈련 데이터 개수 : \", len(train_data))\n",
    "print(\"테스트 데이터 개수 : \", len(test_data))"
   ]
  },
  {
   "cell_type": "code",
   "execution_count": 46,
   "id": "3b697082",
   "metadata": {},
   "outputs": [],
   "source": [
    "X_train = train_data[:,:11]\n",
    "Y_train_raw = train_data[:,-1]"
   ]
  },
  {
   "cell_type": "code",
   "execution_count": 47,
   "id": "ffdbe322",
   "metadata": {},
   "outputs": [
    {
     "data": {
      "text/plain": [
       "array([[35.4, 89.0, 126.0, ..., 1, 17.0, '0'],\n",
       "       [22.1, 85.0, 131.0, ..., 1, 18.0, '0'],\n",
       "       [25.5, 71.0, 130.0, ..., 2, 38.0, '0'],\n",
       "       ...,\n",
       "       [17.3, 70.0, 117.0, ..., 1, 19.0, '0'],\n",
       "       [33.8, 85.0, 120.0, ..., 2, 20.0, '0'],\n",
       "       [38.7, 94.0, 137.0, ..., 2, 41.0, '0']], dtype=object)"
      ]
     },
     "execution_count": 47,
     "metadata": {},
     "output_type": "execute_result"
    }
   ],
   "source": [
    "# X variables 확인\n",
    "X_train"
   ]
  },
  {
   "cell_type": "markdown",
   "id": "c7961b0b",
   "metadata": {},
   "source": [
    "# Y 값 Multi-Labeling"
   ]
  },
  {
   "cell_type": "code",
   "execution_count": 48,
   "id": "25b28b5b",
   "metadata": {},
   "outputs": [
    {
     "data": {
      "text/plain": [
       "array(['[1]', '[0]', '[9]', '[28]', '[21]', '[16]', '[2]', '[2, 28]',\n",
       "       '[14]', '[3, 9]', '[3]', '[0, 2, 3, 21]', '[14, 21]', '[27]',\n",
       "       '[0, 1, 5, 9, 16, 27, 28]', '[0, 1, 5, 9, 16, 21, 27, 28]',\n",
       "       '[2, 14, 21]', '[5]', '[2, 21]', '[2, 3]', '[2, 3, 14, 21]',\n",
       "       '[2, 3, 21]', '[0, 1, 5, 9, 14, 16, 27, 28]', '[12]', '[8, 18]',\n",
       "       '[0, 1, 2, 3, 5, 9, 16, 21, 27, 28]',\n",
       "       '[0, 1, 2, 3, 5, 9, 14, 16, 21, 27, 28]', '[0, 2]', '[11]', '[24]',\n",
       "       '[10]', '[6, 10, 15, 20, 24, 25, 26]', '[2, 3, 21, 28]', '[22]',\n",
       "       '[20]', '[2, 3, 21, 27]', '[0, 1, 2, 5, 9, 14, 16, 21, 27, 28]',\n",
       "       '[0, 1, 2, 5, 9, 16, 27, 28]', '[2, 8, 18]', '[19]',\n",
       "       '[2, 3, 14, 21, 28]', '[2, 14, 21, 27]', '[2, 27]', '[23]',\n",
       "       '[14, 27]', '[2, 3, 27]', '[26]', '[0, 1, 2, 3, 5, 9, 16, 27, 28]',\n",
       "       '[21, 28]', '[14, 28]', '[6]',\n",
       "       '[0, 1, 2, 3, 5, 7, 8, 9, 14, 16, 21, 27, 28]',\n",
       "       '[6, 10, 15, 20, 22, 24, 25, 26]', '[7, 12, 13, 17, 18, 19, 23]',\n",
       "       '[11, 14]', '[11, 19]', '[17]', '[4, 11]', '[19, 28]', '[4]',\n",
       "       '[7, 8, 11]', '[2, 3, 14, 20, 21]',\n",
       "       '[7, 8, 12, 13, 17, 18, 19, 23]', '[20, 22]', '[21, 27]',\n",
       "       '[0, 21]', '[2, 3, 11, 14, 21]',\n",
       "       '[4, 7, 8, 11, 12, 13, 17, 18, 19, 23]', '[4, 23]', '[8]',\n",
       "       '[0, 1, 5, 9, 11, 16, 19, 27, 28]', '[2, 3, 28]', '[7, 8, 11, 27]',\n",
       "       '[7, 8, 11, 12, 13, 17, 18, 19, 23]',\n",
       "       '[0, 1, 5, 9, 14, 16, 21, 27, 28]',\n",
       "       '[0, 1, 5, 8, 9, 16, 18, 27, 28]', '[0, 2, 3, 14, 21]',\n",
       "       '[2, 3, 7, 8, 14, 21, 28]', '[11, 14, 21, 28]',\n",
       "       '[2, 3, 7, 8, 11, 14, 21]', '[2, 3, 7, 8, 11, 14, 21, 28]'],\n",
       "      dtype=object)"
      ]
     },
     "execution_count": 48,
     "metadata": {},
     "output_type": "execute_result"
    }
   ],
   "source": [
    "df['MultiLabel'].unique()"
   ]
  },
  {
   "cell_type": "code",
   "execution_count": 49,
   "id": "8b6c9b43",
   "metadata": {},
   "outputs": [
    {
     "data": {
      "text/plain": [
       "81"
      ]
     },
     "execution_count": 49,
     "metadata": {},
     "output_type": "execute_result"
    }
   ],
   "source": [
    "## 운동 묶음 라벨이 81개나 존재. Multi-labeling을 해야함\n",
    "df['MultiLabel'].nunique()"
   ]
  },
  {
   "cell_type": "code",
   "execution_count": 50,
   "id": "eb821c87",
   "metadata": {
    "scrolled": true
   },
   "outputs": [
    {
     "data": {
      "text/plain": [
       "array(['[14, 27]', '[6, 10, 15, 20, 22, 24, 25, 26]', '[2, 14, 21]', ...,\n",
       "       '[4, 7, 8, 11, 12, 13, 17, 18, 19, 23]', '[3]', '[2, 3]'],\n",
       "      dtype=object)"
      ]
     },
     "execution_count": 50,
     "metadata": {},
     "output_type": "execute_result"
    }
   ],
   "source": [
    "Y_train_raw"
   ]
  },
  {
   "cell_type": "markdown",
   "id": "2c92fb4b",
   "metadata": {},
   "source": [
    "# Y값이 string list 이기에 int list로 바꿔줌"
   ]
  },
  {
   "cell_type": "code",
   "execution_count": 51,
   "id": "d4e8e6aa",
   "metadata": {},
   "outputs": [],
   "source": [
    "Y_train_int = []\n",
    "for each in Y_train_raw:\n",
    "    each = each.replace('[','')\n",
    "    each = each.replace(']','')\n",
    "    temp_list = each.split(',')\n",
    "    temp_list = [int(x) for x in temp_list] \n",
    "    Y_train_int.append(temp_list)"
   ]
  },
  {
   "cell_type": "code",
   "execution_count": 52,
   "id": "2788c372",
   "metadata": {
    "scrolled": false
   },
   "outputs": [],
   "source": [
    "# Y_train_int"
   ]
  },
  {
   "cell_type": "code",
   "execution_count": 53,
   "id": "fdbc3700",
   "metadata": {},
   "outputs": [
    {
     "data": {
      "text/plain": [
       "array([[0, 0, 0, ..., 0, 1, 0],\n",
       "       [0, 0, 0, ..., 1, 0, 0],\n",
       "       [0, 0, 1, ..., 0, 0, 0],\n",
       "       ...,\n",
       "       [0, 0, 0, ..., 0, 0, 0],\n",
       "       [0, 0, 0, ..., 0, 0, 0],\n",
       "       [0, 0, 1, ..., 0, 0, 0]])"
      ]
     },
     "execution_count": 53,
     "metadata": {},
     "output_type": "execute_result"
    }
   ],
   "source": [
    "from sklearn.preprocessing import MultiLabelBinarizer\n",
    "mlb = MultiLabelBinarizer()\n",
    "\n",
    "Y_train = mlb.fit_transform(Y_train_int)\n",
    "Y_train"
   ]
  },
  {
   "cell_type": "markdown",
   "id": "9476d4ed",
   "metadata": {},
   "source": [
    "### Y 값 인코딩이 제대로 되었는지 확인"
   ]
  },
  {
   "cell_type": "code",
   "execution_count": 54,
   "id": "c66244db",
   "metadata": {},
   "outputs": [
    {
     "data": {
      "text/plain": [
       "array([ 0,  1,  2,  3,  4,  5,  6,  7,  8,  9, 10, 11, 12, 13, 14, 15, 16,\n",
       "       17, 18, 19, 20, 21, 22, 23, 24, 25, 26, 27, 28])"
      ]
     },
     "execution_count": 54,
     "metadata": {},
     "output_type": "execute_result"
    }
   ],
   "source": [
    "## 운동 29개로 라벨링 완료\n",
    "mlb.classes_"
   ]
  },
  {
   "cell_type": "code",
   "execution_count": 55,
   "id": "b53fa935",
   "metadata": {
    "scrolled": true
   },
   "outputs": [
    {
     "name": "stdout",
     "output_type": "stream",
     "text": [
      "운동 14, 27 을 가지고 있는 라벨이 동일한 binary 값으로 인코딩 되었음\n",
      "[14, 27]\n",
      "[14, 27]\n",
      "[0 0 0 0 0 0 0 0 0 0 0 0 0 0 1 0 0 0 0 0 0 0 0 0 0 0 0 1 0]\n",
      "[0 0 0 0 0 0 0 0 0 0 0 0 0 0 1 0 0 0 0 0 0 0 0 0 0 0 0 1 0]\n"
     ]
    }
   ],
   "source": [
    "print(\"운동 14, 27 을 가지고 있는 라벨이 동일한 binary 값으로 인코딩 되었음\")\n",
    "print(Y_train_int[0])\n",
    "print(Y_train_int[4])\n",
    "print(Y_train[0])\n",
    "print(Y_train[4])"
   ]
  },
  {
   "cell_type": "code",
   "execution_count": 56,
   "id": "cd228924",
   "metadata": {},
   "outputs": [],
   "source": [
    "import numpy as np"
   ]
  },
  {
   "cell_type": "code",
   "execution_count": 57,
   "id": "4a030156",
   "metadata": {},
   "outputs": [],
   "source": [
    "#test set 대상 똑같은 과정 반복\n",
    "X_test = test_data[:,:11]\n",
    "Y_test_raw = test_data[:,-1]"
   ]
  },
  {
   "cell_type": "code",
   "execution_count": 58,
   "id": "33105374",
   "metadata": {},
   "outputs": [
    {
     "data": {
      "text/plain": [
       "array([[32.9, 75.0, 125.0, ..., 2, 62.0, '0'],\n",
       "       [38.9, 76.0, 123.0, ..., 2, 55.0, '0'],\n",
       "       [36.8, 76.0, 137.0, ..., 2, 64.0, '0'],\n",
       "       ...,\n",
       "       [31.3, 82.0, 141.0, ..., 1, 25.0, '0'],\n",
       "       [37.8, 93.0, 151.0, ..., 2, 61.0, '0'],\n",
       "       [22.5, 52.0, 100.0, ..., 2, 49.0, '2']], dtype=object)"
      ]
     },
     "execution_count": 58,
     "metadata": {},
     "output_type": "execute_result"
    }
   ],
   "source": [
    "X_test"
   ]
  },
  {
   "cell_type": "code",
   "execution_count": 59,
   "id": "13fd65f3",
   "metadata": {},
   "outputs": [
    {
     "data": {
      "text/plain": [
       "array(['[2, 3, 14, 21]', '[2, 3, 21]',\n",
       "       '[0, 1, 2, 3, 5, 9, 14, 16, 21, 27, 28]', ..., '[2, 3, 21]',\n",
       "       '[0, 1, 2, 3, 5, 9, 14, 16, 21, 27, 28]', '[2, 3, 14, 21]'],\n",
       "      dtype=object)"
      ]
     },
     "execution_count": 59,
     "metadata": {},
     "output_type": "execute_result"
    }
   ],
   "source": [
    "Y_test_raw"
   ]
  },
  {
   "cell_type": "code",
   "execution_count": 60,
   "id": "f1e80699",
   "metadata": {},
   "outputs": [],
   "source": [
    "Y_test_int = []\n",
    "for each in Y_test_raw:\n",
    "    each = each.replace('[','')\n",
    "    each = each.replace(']','')\n",
    "    temp_list = each.split(',')\n",
    "    temp_list = [int(x) for x in temp_list] \n",
    "    Y_test_int.append(temp_list)"
   ]
  },
  {
   "cell_type": "code",
   "execution_count": 61,
   "id": "c4b5c6ad",
   "metadata": {},
   "outputs": [
    {
     "data": {
      "text/plain": [
       "array([[0, 0, 1, ..., 0, 0, 0],\n",
       "       [0, 0, 1, ..., 0, 0, 0],\n",
       "       [1, 1, 1, ..., 0, 1, 1],\n",
       "       ...,\n",
       "       [0, 0, 1, ..., 0, 0, 0],\n",
       "       [1, 1, 1, ..., 0, 1, 1],\n",
       "       [0, 0, 1, ..., 0, 0, 0]])"
      ]
     },
     "execution_count": 61,
     "metadata": {},
     "output_type": "execute_result"
    }
   ],
   "source": [
    "Y_test = mlb.fit_transform(Y_test_int)\n",
    "Y_test"
   ]
  },
  {
   "cell_type": "markdown",
   "id": "02dbf7f7",
   "metadata": {},
   "source": [
    "# Decision Tree Model"
   ]
  },
  {
   "cell_type": "code",
   "execution_count": 62,
   "id": "76ca0e24",
   "metadata": {},
   "outputs": [],
   "source": [
    "from sklearn import tree\n",
    "\n",
    "clf = tree.DecisionTreeClassifier()\n",
    "clf = clf.fit(X_train, Y_train)"
   ]
  },
  {
   "cell_type": "markdown",
   "id": "c81b9fc2",
   "metadata": {},
   "source": [
    "## train 시킨 모델에 X값을 하나 입력하면 아래와 같이 운동을 처방해줌\n",
    "## Binary인코딩한 값을 다시 original label로도 inverse_transform 가능"
   ]
  },
  {
   "cell_type": "code",
   "execution_count": 63,
   "id": "89db6fc6",
   "metadata": {},
   "outputs": [
    {
     "data": {
      "text/plain": [
       "[(2, 3, 14, 21)]"
      ]
     },
     "execution_count": 63,
     "metadata": {},
     "output_type": "execute_result"
    }
   ],
   "source": [
    "raw_Y = clf.predict([X_test[0]])\n",
    "mlb.inverse_transform(raw_Y)"
   ]
  },
  {
   "cell_type": "code",
   "execution_count": 64,
   "id": "f92353eb",
   "metadata": {},
   "outputs": [],
   "source": [
    "y_pred = clf.predict(X_test)"
   ]
  },
  {
   "cell_type": "code",
   "execution_count": 65,
   "id": "25d217eb",
   "metadata": {},
   "outputs": [],
   "source": [
    "y_true = Y_test"
   ]
  },
  {
   "cell_type": "markdown",
   "id": "0326b1b8",
   "metadata": {},
   "source": [
    "## Multi-label Confusion Matrix\n",
    "\n"
   ]
  },
  {
   "cell_type": "code",
   "execution_count": 66,
   "id": "915a46e6",
   "metadata": {},
   "outputs": [
    {
     "data": {
      "text/plain": [
       "array([[[10221,  2027],\n",
       "        [ 1884,   620]],\n",
       "\n",
       "       [[ 9802,  2189],\n",
       "        [ 2024,   737]],\n",
       "\n",
       "       [[10547,  1741],\n",
       "        [ 1790,   674]],\n",
       "\n",
       "       [[10218,  1759],\n",
       "        [ 1866,   909]],\n",
       "\n",
       "       [[11040,  1481],\n",
       "        [ 1426,   805]],\n",
       "\n",
       "       [[10258,  2008],\n",
       "        [ 1871,   615]],\n",
       "\n",
       "       [[11387,  1088],\n",
       "        [ 1079,  1198]],\n",
       "\n",
       "       [[10872,  1595],\n",
       "        [ 1460,   825]],\n",
       "\n",
       "       [[10453,  1662],\n",
       "        [ 1586,  1051]],\n",
       "\n",
       "       [[10041,  2079],\n",
       "        [ 1956,   676]],\n",
       "\n",
       "       [[11453,  1092],\n",
       "        [ 1077,  1130]],\n",
       "\n",
       "       [[10825,  1557],\n",
       "        [ 1485,   885]],\n",
       "\n",
       "       [[10941,  1560],\n",
       "        [ 1438,   813]],\n",
       "\n",
       "       [[10941,  1560],\n",
       "        [ 1438,   813]],\n",
       "\n",
       "       [[10352,  1903],\n",
       "        [ 1892,   605]],\n",
       "\n",
       "       [[11453,  1092],\n",
       "        [ 1077,  1130]],\n",
       "\n",
       "       [[10227,  2024],\n",
       "        [ 1874,   627]],\n",
       "\n",
       "       [[10940,  1560],\n",
       "        [ 1439,   813]],\n",
       "\n",
       "       [[10940,  1559],\n",
       "        [ 1439,   814]],\n",
       "\n",
       "       [[10912,  1568],\n",
       "        [ 1443,   829]],\n",
       "\n",
       "       [[11419,  1102],\n",
       "        [ 1085,  1146]],\n",
       "\n",
       "       [[10949,  1622],\n",
       "        [ 1586,   595]],\n",
       "\n",
       "       [[11130,  1148],\n",
       "        [ 1165,  1309]],\n",
       "\n",
       "       [[10940,  1560],\n",
       "        [ 1438,   814]],\n",
       "\n",
       "       [[11341,  1114],\n",
       "        [ 1105,  1192]],\n",
       "\n",
       "       [[11453,  1092],\n",
       "        [ 1077,  1130]],\n",
       "\n",
       "       [[11412,  1099],\n",
       "        [ 1087,  1154]],\n",
       "\n",
       "       [[ 8931,  2470],\n",
       "        [ 2403,   948]],\n",
       "\n",
       "       [[ 9633,  2190],\n",
       "        [ 2090,   839]]])"
      ]
     },
     "execution_count": 66,
     "metadata": {},
     "output_type": "execute_result"
    }
   ],
   "source": [
    "from sklearn.metrics import multilabel_confusion_matrix\n",
    "multilabel_confusion_matrix(y_true, y_pred)"
   ]
  },
  {
   "cell_type": "markdown",
   "id": "4713133a",
   "metadata": {},
   "source": [
    "## Classification Report"
   ]
  },
  {
   "cell_type": "code",
   "execution_count": 67,
   "id": "fc76f342",
   "metadata": {},
   "outputs": [
    {
     "name": "stdout",
     "output_type": "stream",
     "text": [
      "              precision    recall  f1-score   support\n",
      "\n",
      "      Exer 0       0.23      0.25      0.24      2504\n",
      "      Exer 1       0.25      0.27      0.26      2761\n",
      "      Exer 2       0.28      0.27      0.28      2464\n",
      "      Exer 3       0.34      0.33      0.33      2775\n",
      "      Exer 4       0.35      0.36      0.36      2231\n",
      "      Exer 5       0.23      0.25      0.24      2486\n",
      "      Exer 6       0.52      0.53      0.53      2277\n",
      "      Exer 7       0.34      0.36      0.35      2285\n",
      "      Exer 8       0.39      0.40      0.39      2637\n",
      "      Exer 9       0.25      0.26      0.25      2632\n",
      "     Exer 10       0.51      0.51      0.51      2207\n",
      "     Exer 11       0.36      0.37      0.37      2370\n",
      "     Exer 12       0.34      0.36      0.35      2251\n",
      "     Exer 13       0.34      0.36      0.35      2251\n",
      "     Exer 14       0.24      0.24      0.24      2497\n",
      "     Exer 15       0.51      0.51      0.51      2207\n",
      "    Exer 16        0.24      0.25      0.24      2501\n",
      "    Exer 17        0.34      0.36      0.35      2252\n",
      "    Exer 18        0.34      0.36      0.35      2253\n",
      "    Exer 19        0.35      0.36      0.36      2272\n",
      "    Exer 20        0.51      0.51      0.51      2231\n",
      "    Exer 21        0.27      0.27      0.27      2181\n",
      "    Exer 22        0.53      0.53      0.53      2474\n",
      "    Exer 23        0.34      0.36      0.35      2252\n",
      "    Exer 24        0.52      0.52      0.52      2297\n",
      "    Exer 25        0.51      0.51      0.51      2207\n",
      "    Exer 26        0.51      0.51      0.51      2241\n",
      "    Exer 27        0.28      0.28      0.28      3351\n",
      "    Exer 28        0.28      0.29      0.28      2929\n",
      "\n",
      "   micro avg       0.36      0.37      0.36     70276\n",
      "   macro avg       0.36      0.37      0.37     70276\n",
      "weighted avg       0.36      0.37      0.36     70276\n",
      " samples avg       0.35      0.35      0.31     70276\n",
      "\n"
     ]
    }
   ],
   "source": [
    "from sklearn.metrics import classification_report\n",
    "\n",
    "label_names = ['Exer 0', 'Exer 1', 'Exer 2', 'Exer 3', 'Exer 4', 'Exer 5', 'Exer 6', 'Exer 7', \n",
    "               'Exer 8', 'Exer 9', 'Exer 10', 'Exer 11', 'Exer 12','Exer 13','Exer 14','Exer 15',\n",
    "               'Exer 16 ','Exer 17 ','Exer 18 ','Exer 19 ','Exer 20 ','Exer 21 ','Exer 22 ',\n",
    "               'Exer 23 ','Exer 24 ','Exer 25 ','Exer 26 ','Exer 27 ','Exer 28 ']\n",
    "\n",
    "print(classification_report(y_true, y_pred,target_names=label_names))"
   ]
  },
  {
   "cell_type": "code",
   "execution_count": 68,
   "id": "c37805fe",
   "metadata": {},
   "outputs": [
    {
     "name": "stdout",
     "output_type": "stream",
     "text": [
      "None  [0.23422743 0.2518797  0.27908903 0.34070465 0.35214348 0.23446435\n",
      " 0.52405949 0.34090909 0.38739403 0.24537205 0.50855086 0.36240786\n",
      " 0.3426043  0.3426043  0.24122807 0.50855086 0.23651452 0.3426043\n",
      " 0.34302571 0.34584898 0.50978648 0.26838069 0.53276353 0.34288121\n",
      " 0.5169124  0.50855086 0.51220595 0.27735518 0.27698911]\n"
     ]
    }
   ],
   "source": [
    "from sklearn import metrics\n",
    "print(\"None \", metrics.precision_score(y_true, y_pred, average=None))  "
   ]
  },
  {
   "cell_type": "code",
   "execution_count": 69,
   "id": "548d6223",
   "metadata": {},
   "outputs": [
    {
     "name": "stdout",
     "output_type": "stream",
     "text": [
      "micro: 0.36\n",
      "macro: 0.36 \n",
      "weighted: 0.36 \n",
      "samples: 0.35 \n"
     ]
    }
   ],
   "source": [
    "## Precision\n",
    "print(\"micro: {:.2f}\".format(metrics.precision_score(y_true, y_pred, average='micro')))\n",
    "print(\"macro: {:.2f} \".format( metrics.precision_score(y_true, y_pred, average='macro')))\n",
    "print(\"weighted: {:.2f} \".format( metrics.precision_score(y_true, y_pred, average='weighted')))\n",
    "print(\"samples: {:.2f} \".format( metrics.precision_score(y_true, y_pred, average='samples')))  "
   ]
  },
  {
   "cell_type": "code",
   "execution_count": null,
   "id": "67ac90ab",
   "metadata": {},
   "outputs": [],
   "source": []
  }
 ],
 "metadata": {
  "kernelspec": {
   "display_name": "Python 3 (ipykernel)",
   "language": "python",
   "name": "python3"
  },
  "language_info": {
   "codemirror_mode": {
    "name": "ipython",
    "version": 3
   },
   "file_extension": ".py",
   "mimetype": "text/x-python",
   "name": "python",
   "nbconvert_exporter": "python",
   "pygments_lexer": "ipython3",
   "version": "3.10.7"
  }
 },
 "nbformat": 4,
 "nbformat_minor": 5
}
