{
 "cells": [
  {
   "cell_type": "code",
   "execution_count": 1,
   "id": "4faade44",
   "metadata": {},
   "outputs": [],
   "source": [
    "import pandas as pd\n",
    "pd.set_option('display.max_columns', None)"
   ]
  },
  {
   "cell_type": "code",
   "execution_count": 2,
   "id": "d7b459f7",
   "metadata": {},
   "outputs": [],
   "source": [
    "df = pd.read_csv('Final_main_exercises_ard.csv')"
   ]
  },
  {
   "cell_type": "code",
   "execution_count": 3,
   "id": "d2b4c533",
   "metadata": {},
   "outputs": [
    {
     "data": {
      "text/html": [
       "<div>\n",
       "<style scoped>\n",
       "    .dataframe tbody tr th:only-of-type {\n",
       "        vertical-align: middle;\n",
       "    }\n",
       "\n",
       "    .dataframe tbody tr th {\n",
       "        vertical-align: top;\n",
       "    }\n",
       "\n",
       "    .dataframe thead th {\n",
       "        text-align: right;\n",
       "    }\n",
       "</style>\n",
       "<table border=\"1\" class=\"dataframe\">\n",
       "  <thead>\n",
       "    <tr style=\"text-align: right;\">\n",
       "      <th></th>\n",
       "      <th>CNTER_NM</th>\n",
       "      <th>AGE_NAME</th>\n",
       "      <th>GRADE</th>\n",
       "      <th>HE_ht</th>\n",
       "      <th>HE_wt</th>\n",
       "      <th>body_fat</th>\n",
       "      <th>HE_dbp</th>\n",
       "      <th>HE_sbp</th>\n",
       "      <th>l_average</th>\n",
       "      <th>r_average</th>\n",
       "      <th>FLEXIBILITY</th>\n",
       "      <th>HE_BMI</th>\n",
       "      <th>RELATIVE_GRIP</th>\n",
       "      <th>PROGRAM</th>\n",
       "      <th>exercises</th>\n",
       "      <th>sex</th>\n",
       "      <th>age</th>\n",
       "      <th>depression_scale</th>\n",
       "      <th>MultiLabel</th>\n",
       "    </tr>\n",
       "  </thead>\n",
       "  <tbody>\n",
       "    <tr>\n",
       "      <th>0</th>\n",
       "      <td>원주</td>\n",
       "      <td>성인</td>\n",
       "      <td>참가증</td>\n",
       "      <td>162.3</td>\n",
       "      <td>61.80</td>\n",
       "      <td>31.1</td>\n",
       "      <td>78.0</td>\n",
       "      <td>119.0</td>\n",
       "      <td>21.7</td>\n",
       "      <td>24.1</td>\n",
       "      <td>18.5</td>\n",
       "      <td>23.5</td>\n",
       "      <td>38.9</td>\n",
       "      <td>본운동:넙다리 뒤쪽 스트레칭,상지 루틴 스트레칭,전신 루틴 스트레칭,하지 루틴 스트...</td>\n",
       "      <td>{'전신루틴스트레칭', '팔벌려뛰기', '엎드려서다리차올리기', '앉았다일어서기',...</td>\n",
       "      <td>2</td>\n",
       "      <td>39.0</td>\n",
       "      <td>a</td>\n",
       "      <td>[1]</td>\n",
       "    </tr>\n",
       "    <tr>\n",
       "      <th>1</th>\n",
       "      <td>광명</td>\n",
       "      <td>성인</td>\n",
       "      <td>참가증</td>\n",
       "      <td>174.0</td>\n",
       "      <td>63.68</td>\n",
       "      <td>13.0</td>\n",
       "      <td>54.0</td>\n",
       "      <td>109.0</td>\n",
       "      <td>32.6</td>\n",
       "      <td>35.2</td>\n",
       "      <td>16.9</td>\n",
       "      <td>21.0</td>\n",
       "      <td>55.2</td>\n",
       "      <td>본운동:넙다리 뒤쪽 스트레칭,넙다리 앞쪽 스트레칭,작은 공을 이용한 동적 루틴 스트...</td>\n",
       "      <td>{'계단올라갔다내려오기', '앉았다일어서기', '넙다리앞쪽스트레칭', '넙다리뒤쪽스...</td>\n",
       "      <td>1</td>\n",
       "      <td>19.0</td>\n",
       "      <td>a</td>\n",
       "      <td>[0]</td>\n",
       "    </tr>\n",
       "    <tr>\n",
       "      <th>2</th>\n",
       "      <td>원주</td>\n",
       "      <td>성인</td>\n",
       "      <td>참가증</td>\n",
       "      <td>181.5</td>\n",
       "      <td>74.46</td>\n",
       "      <td>16.2</td>\n",
       "      <td>77.0</td>\n",
       "      <td>117.0</td>\n",
       "      <td>43.0</td>\n",
       "      <td>44.7</td>\n",
       "      <td>15.8</td>\n",
       "      <td>22.6</td>\n",
       "      <td>60.0</td>\n",
       "      <td>본운동:넙다리 뒤쪽 스트레칭,상지 루틴 스트레칭,전신 루틴 스트레칭,하지 루틴 스트...</td>\n",
       "      <td>{'팔벌려뛰기', '줄넘기', '하지루틴스트레칭1', '실외자전거타기', '전신루틴...</td>\n",
       "      <td>1</td>\n",
       "      <td>25.0</td>\n",
       "      <td>a</td>\n",
       "      <td>[9]</td>\n",
       "    </tr>\n",
       "    <tr>\n",
       "      <th>3</th>\n",
       "      <td>원주</td>\n",
       "      <td>성인</td>\n",
       "      <td>참가증</td>\n",
       "      <td>172.7</td>\n",
       "      <td>62.30</td>\n",
       "      <td>10.4</td>\n",
       "      <td>62.0</td>\n",
       "      <td>99.0</td>\n",
       "      <td>35.1</td>\n",
       "      <td>36.7</td>\n",
       "      <td>2.4</td>\n",
       "      <td>20.9</td>\n",
       "      <td>58.9</td>\n",
       "      <td>본운동:넙다리 뒤쪽 스트레칭,상지 루틴 스트레칭,전신 루틴 스트레칭,하지 루틴 스트...</td>\n",
       "      <td>{'전신루틴스트레칭', '무릎높여제자리달리기', '팔벌려뛰기', '엎드려서다리차올리...</td>\n",
       "      <td>1</td>\n",
       "      <td>19.0</td>\n",
       "      <td>a</td>\n",
       "      <td>[9]</td>\n",
       "    </tr>\n",
       "    <tr>\n",
       "      <th>4</th>\n",
       "      <td>원주</td>\n",
       "      <td>성인</td>\n",
       "      <td>참가증</td>\n",
       "      <td>171.0</td>\n",
       "      <td>71.98</td>\n",
       "      <td>14.9</td>\n",
       "      <td>66.0</td>\n",
       "      <td>120.0</td>\n",
       "      <td>34.4</td>\n",
       "      <td>43.5</td>\n",
       "      <td>-3.4</td>\n",
       "      <td>24.6</td>\n",
       "      <td>60.4</td>\n",
       "      <td>본운동:넙다리 뒤쪽 스트레칭,상지 루틴 스트레칭,전신 루틴 스트레칭,하지 루틴 스트...</td>\n",
       "      <td>{'전신루틴스트레칭', '엎드려서다리차올리기', '앉았다일어서기', '넙다리뒤쪽스트...</td>\n",
       "      <td>1</td>\n",
       "      <td>19.0</td>\n",
       "      <td>a</td>\n",
       "      <td>[9]</td>\n",
       "    </tr>\n",
       "    <tr>\n",
       "      <th>...</th>\n",
       "      <td>...</td>\n",
       "      <td>...</td>\n",
       "      <td>...</td>\n",
       "      <td>...</td>\n",
       "      <td>...</td>\n",
       "      <td>...</td>\n",
       "      <td>...</td>\n",
       "      <td>...</td>\n",
       "      <td>...</td>\n",
       "      <td>...</td>\n",
       "      <td>...</td>\n",
       "      <td>...</td>\n",
       "      <td>...</td>\n",
       "      <td>...</td>\n",
       "      <td>...</td>\n",
       "      <td>...</td>\n",
       "      <td>...</td>\n",
       "      <td>...</td>\n",
       "      <td>...</td>\n",
       "    </tr>\n",
       "    <tr>\n",
       "      <th>73752</th>\n",
       "      <td>서초</td>\n",
       "      <td>성인</td>\n",
       "      <td>참가증</td>\n",
       "      <td>171.1</td>\n",
       "      <td>68.00</td>\n",
       "      <td>23.4</td>\n",
       "      <td>76.0</td>\n",
       "      <td>126.0</td>\n",
       "      <td>37.7</td>\n",
       "      <td>37.6</td>\n",
       "      <td>13.6</td>\n",
       "      <td>23.2</td>\n",
       "      <td>55.4</td>\n",
       "      <td>준비운동:유산소 운동 전 동적 루틴 스트레칭 / 본운동:앉았다 일어서기,의자 앞에서...</td>\n",
       "      <td>{'네발기기자세로팔다리들기', '누워서엉덩이들어올리기', '앉았다일어서기', '누워...</td>\n",
       "      <td>1</td>\n",
       "      <td>25.0</td>\n",
       "      <td>a</td>\n",
       "      <td>[2, 3, 14, 21]</td>\n",
       "    </tr>\n",
       "    <tr>\n",
       "      <th>73753</th>\n",
       "      <td>서초</td>\n",
       "      <td>성인</td>\n",
       "      <td>참가증</td>\n",
       "      <td>145.9</td>\n",
       "      <td>46.20</td>\n",
       "      <td>30.7</td>\n",
       "      <td>76.0</td>\n",
       "      <td>119.0</td>\n",
       "      <td>19.6</td>\n",
       "      <td>21.3</td>\n",
       "      <td>7.5</td>\n",
       "      <td>21.7</td>\n",
       "      <td>46.1</td>\n",
       "      <td>준비운동:유산소 운동 전 동적 루틴 스트레칭 / 본운동:앉았다 일어서기,의자 앞에서...</td>\n",
       "      <td>{'네발기기자세로팔다리들기', '누워서엉덩이들어올리기', '앉았다일어서기', '누워...</td>\n",
       "      <td>2</td>\n",
       "      <td>21.0</td>\n",
       "      <td>b</td>\n",
       "      <td>[2, 3, 14, 21]</td>\n",
       "    </tr>\n",
       "    <tr>\n",
       "      <th>73754</th>\n",
       "      <td>서초</td>\n",
       "      <td>성인</td>\n",
       "      <td>참가증</td>\n",
       "      <td>174.7</td>\n",
       "      <td>59.10</td>\n",
       "      <td>9.4</td>\n",
       "      <td>75.0</td>\n",
       "      <td>123.0</td>\n",
       "      <td>46.1</td>\n",
       "      <td>45.4</td>\n",
       "      <td>29.1</td>\n",
       "      <td>19.4</td>\n",
       "      <td>78.0</td>\n",
       "      <td>준비운동:유산소 운동 전 동적 루틴 스트레칭 / 본운동:앉았다 일어서기,의자 앞에서...</td>\n",
       "      <td>{'네발기기자세로팔다리들기', '누워서엉덩이들어올리기', '앉았다일어서기', '누워...</td>\n",
       "      <td>1</td>\n",
       "      <td>22.0</td>\n",
       "      <td>b</td>\n",
       "      <td>[2, 3, 14, 21]</td>\n",
       "    </tr>\n",
       "    <tr>\n",
       "      <th>73755</th>\n",
       "      <td>계룡</td>\n",
       "      <td>성인</td>\n",
       "      <td>2등급</td>\n",
       "      <td>165.5</td>\n",
       "      <td>61.10</td>\n",
       "      <td>27.9</td>\n",
       "      <td>58.0</td>\n",
       "      <td>117.0</td>\n",
       "      <td>24.0</td>\n",
       "      <td>29.3</td>\n",
       "      <td>22.3</td>\n",
       "      <td>22.3</td>\n",
       "      <td>48.0</td>\n",
       "      <td>준비운동:하지 루틴 스트레칭1,상지 루틴 스트레칭 / 본운동:앉았다 일어서기,한발 ...</td>\n",
       "      <td>{'계단올라갔다내려오기', '몸통옆으로굽히기', '서서균형잡기', '앉았다일어서기'...</td>\n",
       "      <td>2</td>\n",
       "      <td>23.0</td>\n",
       "      <td>a</td>\n",
       "      <td>[0, 1, 5, 9, 16, 27, 28]</td>\n",
       "    </tr>\n",
       "    <tr>\n",
       "      <th>73756</th>\n",
       "      <td>진천</td>\n",
       "      <td>성인</td>\n",
       "      <td>2등급</td>\n",
       "      <td>173.9</td>\n",
       "      <td>60.70</td>\n",
       "      <td>12.1</td>\n",
       "      <td>79.0</td>\n",
       "      <td>134.0</td>\n",
       "      <td>40.9</td>\n",
       "      <td>42.9</td>\n",
       "      <td>18.7</td>\n",
       "      <td>20.1</td>\n",
       "      <td>70.7</td>\n",
       "      <td>준비운동:전신 루틴 스트레칭,유산소 운동 전 동적 루틴 스트레칭,짐볼을 이용한 동적...</td>\n",
       "      <td>{'계단올라갔다내려오기', '누워서엉덩이들어올리기', '앉았다일어서기', '엎드려버...</td>\n",
       "      <td>1</td>\n",
       "      <td>20.0</td>\n",
       "      <td>a</td>\n",
       "      <td>[0, 1, 5, 9, 16, 27, 28]</td>\n",
       "    </tr>\n",
       "  </tbody>\n",
       "</table>\n",
       "<p>73757 rows × 19 columns</p>\n",
       "</div>"
      ],
      "text/plain": [
       "      CNTER_NM AGE_NAME GRADE  HE_ht  HE_wt  body_fat  HE_dbp  HE_sbp  \\\n",
       "0           원주       성인   참가증  162.3  61.80      31.1    78.0   119.0   \n",
       "1           광명       성인   참가증  174.0  63.68      13.0    54.0   109.0   \n",
       "2           원주       성인   참가증  181.5  74.46      16.2    77.0   117.0   \n",
       "3           원주       성인   참가증  172.7  62.30      10.4    62.0    99.0   \n",
       "4           원주       성인   참가증  171.0  71.98      14.9    66.0   120.0   \n",
       "...        ...      ...   ...    ...    ...       ...     ...     ...   \n",
       "73752       서초       성인   참가증  171.1  68.00      23.4    76.0   126.0   \n",
       "73753       서초       성인   참가증  145.9  46.20      30.7    76.0   119.0   \n",
       "73754       서초       성인   참가증  174.7  59.10       9.4    75.0   123.0   \n",
       "73755       계룡       성인   2등급  165.5  61.10      27.9    58.0   117.0   \n",
       "73756       진천       성인   2등급  173.9  60.70      12.1    79.0   134.0   \n",
       "\n",
       "       l_average  r_average  FLEXIBILITY  HE_BMI  RELATIVE_GRIP  \\\n",
       "0           21.7       24.1         18.5    23.5           38.9   \n",
       "1           32.6       35.2         16.9    21.0           55.2   \n",
       "2           43.0       44.7         15.8    22.6           60.0   \n",
       "3           35.1       36.7          2.4    20.9           58.9   \n",
       "4           34.4       43.5         -3.4    24.6           60.4   \n",
       "...          ...        ...          ...     ...            ...   \n",
       "73752       37.7       37.6         13.6    23.2           55.4   \n",
       "73753       19.6       21.3          7.5    21.7           46.1   \n",
       "73754       46.1       45.4         29.1    19.4           78.0   \n",
       "73755       24.0       29.3         22.3    22.3           48.0   \n",
       "73756       40.9       42.9         18.7    20.1           70.7   \n",
       "\n",
       "                                                 PROGRAM  \\\n",
       "0      본운동:넙다리 뒤쪽 스트레칭,상지 루틴 스트레칭,전신 루틴 스트레칭,하지 루틴 스트...   \n",
       "1      본운동:넙다리 뒤쪽 스트레칭,넙다리 앞쪽 스트레칭,작은 공을 이용한 동적 루틴 스트...   \n",
       "2      본운동:넙다리 뒤쪽 스트레칭,상지 루틴 스트레칭,전신 루틴 스트레칭,하지 루틴 스트...   \n",
       "3      본운동:넙다리 뒤쪽 스트레칭,상지 루틴 스트레칭,전신 루틴 스트레칭,하지 루틴 스트...   \n",
       "4      본운동:넙다리 뒤쪽 스트레칭,상지 루틴 스트레칭,전신 루틴 스트레칭,하지 루틴 스트...   \n",
       "...                                                  ...   \n",
       "73752  준비운동:유산소 운동 전 동적 루틴 스트레칭 / 본운동:앉았다 일어서기,의자 앞에서...   \n",
       "73753  준비운동:유산소 운동 전 동적 루틴 스트레칭 / 본운동:앉았다 일어서기,의자 앞에서...   \n",
       "73754  준비운동:유산소 운동 전 동적 루틴 스트레칭 / 본운동:앉았다 일어서기,의자 앞에서...   \n",
       "73755  준비운동:하지 루틴 스트레칭1,상지 루틴 스트레칭 / 본운동:앉았다 일어서기,한발 ...   \n",
       "73756  준비운동:전신 루틴 스트레칭,유산소 운동 전 동적 루틴 스트레칭,짐볼을 이용한 동적...   \n",
       "\n",
       "                                               exercises  sex   age  \\\n",
       "0      {'전신루틴스트레칭', '팔벌려뛰기', '엎드려서다리차올리기', '앉았다일어서기',...    2  39.0   \n",
       "1      {'계단올라갔다내려오기', '앉았다일어서기', '넙다리앞쪽스트레칭', '넙다리뒤쪽스...    1  19.0   \n",
       "2      {'팔벌려뛰기', '줄넘기', '하지루틴스트레칭1', '실외자전거타기', '전신루틴...    1  25.0   \n",
       "3      {'전신루틴스트레칭', '무릎높여제자리달리기', '팔벌려뛰기', '엎드려서다리차올리...    1  19.0   \n",
       "4      {'전신루틴스트레칭', '엎드려서다리차올리기', '앉았다일어서기', '넙다리뒤쪽스트...    1  19.0   \n",
       "...                                                  ...  ...   ...   \n",
       "73752  {'네발기기자세로팔다리들기', '누워서엉덩이들어올리기', '앉았다일어서기', '누워...    1  25.0   \n",
       "73753  {'네발기기자세로팔다리들기', '누워서엉덩이들어올리기', '앉았다일어서기', '누워...    2  21.0   \n",
       "73754  {'네발기기자세로팔다리들기', '누워서엉덩이들어올리기', '앉았다일어서기', '누워...    1  22.0   \n",
       "73755  {'계단올라갔다내려오기', '몸통옆으로굽히기', '서서균형잡기', '앉았다일어서기'...    2  23.0   \n",
       "73756  {'계단올라갔다내려오기', '누워서엉덩이들어올리기', '앉았다일어서기', '엎드려버...    1  20.0   \n",
       "\n",
       "      depression_scale                MultiLabel  \n",
       "0                    a                       [1]  \n",
       "1                    a                       [0]  \n",
       "2                    a                       [9]  \n",
       "3                    a                       [9]  \n",
       "4                    a                       [9]  \n",
       "...                ...                       ...  \n",
       "73752                a            [2, 3, 14, 21]  \n",
       "73753                b            [2, 3, 14, 21]  \n",
       "73754                b            [2, 3, 14, 21]  \n",
       "73755                a  [0, 1, 5, 9, 16, 27, 28]  \n",
       "73756                a  [0, 1, 5, 9, 16, 27, 28]  \n",
       "\n",
       "[73757 rows x 19 columns]"
      ]
     },
     "execution_count": 3,
     "metadata": {},
     "output_type": "execute_result"
    }
   ],
   "source": [
    "df"
   ]
  },
  {
   "cell_type": "markdown",
   "id": "6bd3d980",
   "metadata": {},
   "source": [
    "## 필요없는 feature 제거\n",
    "transaction number, 지역, 출장여부, 참가자등급, 날짜 .. 등등"
   ]
  },
  {
   "cell_type": "code",
   "execution_count": 4,
   "id": "8239c25d",
   "metadata": {},
   "outputs": [
    {
     "data": {
      "text/plain": [
       "Index(['CNTER_NM', 'AGE_NAME', 'GRADE', 'HE_ht', 'HE_wt', 'body_fat', 'HE_dbp',\n",
       "       'HE_sbp', 'l_average', 'r_average', 'FLEXIBILITY', 'HE_BMI',\n",
       "       'RELATIVE_GRIP', 'PROGRAM', 'exercises', 'sex', 'age',\n",
       "       'depression_scale', 'MultiLabel'],\n",
       "      dtype='object')"
      ]
     },
     "execution_count": 4,
     "metadata": {},
     "output_type": "execute_result"
    }
   ],
   "source": [
    "# features\n",
    "df.columns"
   ]
  },
  {
   "cell_type": "code",
   "execution_count": 5,
   "id": "966abba8",
   "metadata": {},
   "outputs": [
    {
     "data": {
      "text/html": [
       "<div>\n",
       "<style scoped>\n",
       "    .dataframe tbody tr th:only-of-type {\n",
       "        vertical-align: middle;\n",
       "    }\n",
       "\n",
       "    .dataframe tbody tr th {\n",
       "        vertical-align: top;\n",
       "    }\n",
       "\n",
       "    .dataframe thead th {\n",
       "        text-align: right;\n",
       "    }\n",
       "</style>\n",
       "<table border=\"1\" class=\"dataframe\">\n",
       "  <thead>\n",
       "    <tr style=\"text-align: right;\">\n",
       "      <th></th>\n",
       "      <th>HE_ht</th>\n",
       "      <th>HE_wt</th>\n",
       "      <th>body_fat</th>\n",
       "      <th>HE_dbp</th>\n",
       "      <th>HE_sbp</th>\n",
       "      <th>l_average</th>\n",
       "      <th>r_average</th>\n",
       "      <th>FLEXIBILITY</th>\n",
       "      <th>HE_BMI</th>\n",
       "      <th>RELATIVE_GRIP</th>\n",
       "      <th>sex</th>\n",
       "      <th>age</th>\n",
       "      <th>depression_scale</th>\n",
       "      <th>MultiLabel</th>\n",
       "    </tr>\n",
       "  </thead>\n",
       "  <tbody>\n",
       "    <tr>\n",
       "      <th>0</th>\n",
       "      <td>162.3</td>\n",
       "      <td>61.80</td>\n",
       "      <td>31.1</td>\n",
       "      <td>78.0</td>\n",
       "      <td>119.0</td>\n",
       "      <td>21.7</td>\n",
       "      <td>24.1</td>\n",
       "      <td>18.5</td>\n",
       "      <td>23.5</td>\n",
       "      <td>38.9</td>\n",
       "      <td>2</td>\n",
       "      <td>39.0</td>\n",
       "      <td>a</td>\n",
       "      <td>[1]</td>\n",
       "    </tr>\n",
       "    <tr>\n",
       "      <th>1</th>\n",
       "      <td>174.0</td>\n",
       "      <td>63.68</td>\n",
       "      <td>13.0</td>\n",
       "      <td>54.0</td>\n",
       "      <td>109.0</td>\n",
       "      <td>32.6</td>\n",
       "      <td>35.2</td>\n",
       "      <td>16.9</td>\n",
       "      <td>21.0</td>\n",
       "      <td>55.2</td>\n",
       "      <td>1</td>\n",
       "      <td>19.0</td>\n",
       "      <td>a</td>\n",
       "      <td>[0]</td>\n",
       "    </tr>\n",
       "    <tr>\n",
       "      <th>2</th>\n",
       "      <td>181.5</td>\n",
       "      <td>74.46</td>\n",
       "      <td>16.2</td>\n",
       "      <td>77.0</td>\n",
       "      <td>117.0</td>\n",
       "      <td>43.0</td>\n",
       "      <td>44.7</td>\n",
       "      <td>15.8</td>\n",
       "      <td>22.6</td>\n",
       "      <td>60.0</td>\n",
       "      <td>1</td>\n",
       "      <td>25.0</td>\n",
       "      <td>a</td>\n",
       "      <td>[9]</td>\n",
       "    </tr>\n",
       "    <tr>\n",
       "      <th>3</th>\n",
       "      <td>172.7</td>\n",
       "      <td>62.30</td>\n",
       "      <td>10.4</td>\n",
       "      <td>62.0</td>\n",
       "      <td>99.0</td>\n",
       "      <td>35.1</td>\n",
       "      <td>36.7</td>\n",
       "      <td>2.4</td>\n",
       "      <td>20.9</td>\n",
       "      <td>58.9</td>\n",
       "      <td>1</td>\n",
       "      <td>19.0</td>\n",
       "      <td>a</td>\n",
       "      <td>[9]</td>\n",
       "    </tr>\n",
       "    <tr>\n",
       "      <th>4</th>\n",
       "      <td>171.0</td>\n",
       "      <td>71.98</td>\n",
       "      <td>14.9</td>\n",
       "      <td>66.0</td>\n",
       "      <td>120.0</td>\n",
       "      <td>34.4</td>\n",
       "      <td>43.5</td>\n",
       "      <td>-3.4</td>\n",
       "      <td>24.6</td>\n",
       "      <td>60.4</td>\n",
       "      <td>1</td>\n",
       "      <td>19.0</td>\n",
       "      <td>a</td>\n",
       "      <td>[9]</td>\n",
       "    </tr>\n",
       "    <tr>\n",
       "      <th>...</th>\n",
       "      <td>...</td>\n",
       "      <td>...</td>\n",
       "      <td>...</td>\n",
       "      <td>...</td>\n",
       "      <td>...</td>\n",
       "      <td>...</td>\n",
       "      <td>...</td>\n",
       "      <td>...</td>\n",
       "      <td>...</td>\n",
       "      <td>...</td>\n",
       "      <td>...</td>\n",
       "      <td>...</td>\n",
       "      <td>...</td>\n",
       "      <td>...</td>\n",
       "    </tr>\n",
       "    <tr>\n",
       "      <th>73752</th>\n",
       "      <td>171.1</td>\n",
       "      <td>68.00</td>\n",
       "      <td>23.4</td>\n",
       "      <td>76.0</td>\n",
       "      <td>126.0</td>\n",
       "      <td>37.7</td>\n",
       "      <td>37.6</td>\n",
       "      <td>13.6</td>\n",
       "      <td>23.2</td>\n",
       "      <td>55.4</td>\n",
       "      <td>1</td>\n",
       "      <td>25.0</td>\n",
       "      <td>a</td>\n",
       "      <td>[2, 3, 14, 21]</td>\n",
       "    </tr>\n",
       "    <tr>\n",
       "      <th>73753</th>\n",
       "      <td>145.9</td>\n",
       "      <td>46.20</td>\n",
       "      <td>30.7</td>\n",
       "      <td>76.0</td>\n",
       "      <td>119.0</td>\n",
       "      <td>19.6</td>\n",
       "      <td>21.3</td>\n",
       "      <td>7.5</td>\n",
       "      <td>21.7</td>\n",
       "      <td>46.1</td>\n",
       "      <td>2</td>\n",
       "      <td>21.0</td>\n",
       "      <td>b</td>\n",
       "      <td>[2, 3, 14, 21]</td>\n",
       "    </tr>\n",
       "    <tr>\n",
       "      <th>73754</th>\n",
       "      <td>174.7</td>\n",
       "      <td>59.10</td>\n",
       "      <td>9.4</td>\n",
       "      <td>75.0</td>\n",
       "      <td>123.0</td>\n",
       "      <td>46.1</td>\n",
       "      <td>45.4</td>\n",
       "      <td>29.1</td>\n",
       "      <td>19.4</td>\n",
       "      <td>78.0</td>\n",
       "      <td>1</td>\n",
       "      <td>22.0</td>\n",
       "      <td>b</td>\n",
       "      <td>[2, 3, 14, 21]</td>\n",
       "    </tr>\n",
       "    <tr>\n",
       "      <th>73755</th>\n",
       "      <td>165.5</td>\n",
       "      <td>61.10</td>\n",
       "      <td>27.9</td>\n",
       "      <td>58.0</td>\n",
       "      <td>117.0</td>\n",
       "      <td>24.0</td>\n",
       "      <td>29.3</td>\n",
       "      <td>22.3</td>\n",
       "      <td>22.3</td>\n",
       "      <td>48.0</td>\n",
       "      <td>2</td>\n",
       "      <td>23.0</td>\n",
       "      <td>a</td>\n",
       "      <td>[0, 1, 5, 9, 16, 27, 28]</td>\n",
       "    </tr>\n",
       "    <tr>\n",
       "      <th>73756</th>\n",
       "      <td>173.9</td>\n",
       "      <td>60.70</td>\n",
       "      <td>12.1</td>\n",
       "      <td>79.0</td>\n",
       "      <td>134.0</td>\n",
       "      <td>40.9</td>\n",
       "      <td>42.9</td>\n",
       "      <td>18.7</td>\n",
       "      <td>20.1</td>\n",
       "      <td>70.7</td>\n",
       "      <td>1</td>\n",
       "      <td>20.0</td>\n",
       "      <td>a</td>\n",
       "      <td>[0, 1, 5, 9, 16, 27, 28]</td>\n",
       "    </tr>\n",
       "  </tbody>\n",
       "</table>\n",
       "<p>73757 rows × 14 columns</p>\n",
       "</div>"
      ],
      "text/plain": [
       "       HE_ht  HE_wt  body_fat  HE_dbp  HE_sbp  l_average  r_average  \\\n",
       "0      162.3  61.80      31.1    78.0   119.0       21.7       24.1   \n",
       "1      174.0  63.68      13.0    54.0   109.0       32.6       35.2   \n",
       "2      181.5  74.46      16.2    77.0   117.0       43.0       44.7   \n",
       "3      172.7  62.30      10.4    62.0    99.0       35.1       36.7   \n",
       "4      171.0  71.98      14.9    66.0   120.0       34.4       43.5   \n",
       "...      ...    ...       ...     ...     ...        ...        ...   \n",
       "73752  171.1  68.00      23.4    76.0   126.0       37.7       37.6   \n",
       "73753  145.9  46.20      30.7    76.0   119.0       19.6       21.3   \n",
       "73754  174.7  59.10       9.4    75.0   123.0       46.1       45.4   \n",
       "73755  165.5  61.10      27.9    58.0   117.0       24.0       29.3   \n",
       "73756  173.9  60.70      12.1    79.0   134.0       40.9       42.9   \n",
       "\n",
       "       FLEXIBILITY  HE_BMI  RELATIVE_GRIP  sex   age depression_scale  \\\n",
       "0             18.5    23.5           38.9    2  39.0                a   \n",
       "1             16.9    21.0           55.2    1  19.0                a   \n",
       "2             15.8    22.6           60.0    1  25.0                a   \n",
       "3              2.4    20.9           58.9    1  19.0                a   \n",
       "4             -3.4    24.6           60.4    1  19.0                a   \n",
       "...            ...     ...            ...  ...   ...              ...   \n",
       "73752         13.6    23.2           55.4    1  25.0                a   \n",
       "73753          7.5    21.7           46.1    2  21.0                b   \n",
       "73754         29.1    19.4           78.0    1  22.0                b   \n",
       "73755         22.3    22.3           48.0    2  23.0                a   \n",
       "73756         18.7    20.1           70.7    1  20.0                a   \n",
       "\n",
       "                     MultiLabel  \n",
       "0                           [1]  \n",
       "1                           [0]  \n",
       "2                           [9]  \n",
       "3                           [9]  \n",
       "4                           [9]  \n",
       "...                         ...  \n",
       "73752            [2, 3, 14, 21]  \n",
       "73753            [2, 3, 14, 21]  \n",
       "73754            [2, 3, 14, 21]  \n",
       "73755  [0, 1, 5, 9, 16, 27, 28]  \n",
       "73756  [0, 1, 5, 9, 16, 27, 28]  \n",
       "\n",
       "[73757 rows x 14 columns]"
      ]
     },
     "execution_count": 5,
     "metadata": {},
     "output_type": "execute_result"
    }
   ],
   "source": [
    "# Drop columns\n",
    "df = df.drop(columns = ['CNTER_NM', 'AGE_NAME', 'GRADE', 'PROGRAM', 'exercises'])\n",
    "\n",
    "\n",
    "# df = df.drop(df.iloc[:,15:],axis = 1)\n",
    "\n",
    "df"
   ]
  },
  {
   "cell_type": "markdown",
   "id": "5229e030",
   "metadata": {},
   "source": [
    "## Depression scale categorical data -> one-hot encoding"
   ]
  },
  {
   "cell_type": "code",
   "execution_count": 6,
   "id": "f23b5cb8",
   "metadata": {},
   "outputs": [
    {
     "data": {
      "text/plain": [
       "array(['a', 'b', 'c', 'd'], dtype=object)"
      ]
     },
     "execution_count": 6,
     "metadata": {},
     "output_type": "execute_result"
    }
   ],
   "source": [
    "df['depression_scale'].unique()"
   ]
  },
  {
   "cell_type": "code",
   "execution_count": 7,
   "id": "96719bc8",
   "metadata": {},
   "outputs": [
    {
     "data": {
      "text/html": [
       "<div>\n",
       "<style scoped>\n",
       "    .dataframe tbody tr th:only-of-type {\n",
       "        vertical-align: middle;\n",
       "    }\n",
       "\n",
       "    .dataframe tbody tr th {\n",
       "        vertical-align: top;\n",
       "    }\n",
       "\n",
       "    .dataframe thead th {\n",
       "        text-align: right;\n",
       "    }\n",
       "</style>\n",
       "<table border=\"1\" class=\"dataframe\">\n",
       "  <thead>\n",
       "    <tr style=\"text-align: right;\">\n",
       "      <th></th>\n",
       "      <th>HE_ht</th>\n",
       "      <th>HE_wt</th>\n",
       "      <th>body_fat</th>\n",
       "      <th>HE_dbp</th>\n",
       "      <th>HE_sbp</th>\n",
       "      <th>l_average</th>\n",
       "      <th>r_average</th>\n",
       "      <th>FLEXIBILITY</th>\n",
       "      <th>HE_BMI</th>\n",
       "      <th>RELATIVE_GRIP</th>\n",
       "      <th>sex</th>\n",
       "      <th>age</th>\n",
       "      <th>depression_scale</th>\n",
       "      <th>MultiLabel</th>\n",
       "    </tr>\n",
       "  </thead>\n",
       "  <tbody>\n",
       "    <tr>\n",
       "      <th>0</th>\n",
       "      <td>162.3</td>\n",
       "      <td>61.80</td>\n",
       "      <td>31.1</td>\n",
       "      <td>78.0</td>\n",
       "      <td>119.0</td>\n",
       "      <td>21.7</td>\n",
       "      <td>24.1</td>\n",
       "      <td>18.5</td>\n",
       "      <td>23.5</td>\n",
       "      <td>38.9</td>\n",
       "      <td>2</td>\n",
       "      <td>39.0</td>\n",
       "      <td>0</td>\n",
       "      <td>[1]</td>\n",
       "    </tr>\n",
       "    <tr>\n",
       "      <th>1</th>\n",
       "      <td>174.0</td>\n",
       "      <td>63.68</td>\n",
       "      <td>13.0</td>\n",
       "      <td>54.0</td>\n",
       "      <td>109.0</td>\n",
       "      <td>32.6</td>\n",
       "      <td>35.2</td>\n",
       "      <td>16.9</td>\n",
       "      <td>21.0</td>\n",
       "      <td>55.2</td>\n",
       "      <td>1</td>\n",
       "      <td>19.0</td>\n",
       "      <td>0</td>\n",
       "      <td>[0]</td>\n",
       "    </tr>\n",
       "    <tr>\n",
       "      <th>2</th>\n",
       "      <td>181.5</td>\n",
       "      <td>74.46</td>\n",
       "      <td>16.2</td>\n",
       "      <td>77.0</td>\n",
       "      <td>117.0</td>\n",
       "      <td>43.0</td>\n",
       "      <td>44.7</td>\n",
       "      <td>15.8</td>\n",
       "      <td>22.6</td>\n",
       "      <td>60.0</td>\n",
       "      <td>1</td>\n",
       "      <td>25.0</td>\n",
       "      <td>0</td>\n",
       "      <td>[9]</td>\n",
       "    </tr>\n",
       "    <tr>\n",
       "      <th>3</th>\n",
       "      <td>172.7</td>\n",
       "      <td>62.30</td>\n",
       "      <td>10.4</td>\n",
       "      <td>62.0</td>\n",
       "      <td>99.0</td>\n",
       "      <td>35.1</td>\n",
       "      <td>36.7</td>\n",
       "      <td>2.4</td>\n",
       "      <td>20.9</td>\n",
       "      <td>58.9</td>\n",
       "      <td>1</td>\n",
       "      <td>19.0</td>\n",
       "      <td>0</td>\n",
       "      <td>[9]</td>\n",
       "    </tr>\n",
       "    <tr>\n",
       "      <th>4</th>\n",
       "      <td>171.0</td>\n",
       "      <td>71.98</td>\n",
       "      <td>14.9</td>\n",
       "      <td>66.0</td>\n",
       "      <td>120.0</td>\n",
       "      <td>34.4</td>\n",
       "      <td>43.5</td>\n",
       "      <td>-3.4</td>\n",
       "      <td>24.6</td>\n",
       "      <td>60.4</td>\n",
       "      <td>1</td>\n",
       "      <td>19.0</td>\n",
       "      <td>0</td>\n",
       "      <td>[9]</td>\n",
       "    </tr>\n",
       "    <tr>\n",
       "      <th>...</th>\n",
       "      <td>...</td>\n",
       "      <td>...</td>\n",
       "      <td>...</td>\n",
       "      <td>...</td>\n",
       "      <td>...</td>\n",
       "      <td>...</td>\n",
       "      <td>...</td>\n",
       "      <td>...</td>\n",
       "      <td>...</td>\n",
       "      <td>...</td>\n",
       "      <td>...</td>\n",
       "      <td>...</td>\n",
       "      <td>...</td>\n",
       "      <td>...</td>\n",
       "    </tr>\n",
       "    <tr>\n",
       "      <th>73752</th>\n",
       "      <td>171.1</td>\n",
       "      <td>68.00</td>\n",
       "      <td>23.4</td>\n",
       "      <td>76.0</td>\n",
       "      <td>126.0</td>\n",
       "      <td>37.7</td>\n",
       "      <td>37.6</td>\n",
       "      <td>13.6</td>\n",
       "      <td>23.2</td>\n",
       "      <td>55.4</td>\n",
       "      <td>1</td>\n",
       "      <td>25.0</td>\n",
       "      <td>0</td>\n",
       "      <td>[2, 3, 14, 21]</td>\n",
       "    </tr>\n",
       "    <tr>\n",
       "      <th>73753</th>\n",
       "      <td>145.9</td>\n",
       "      <td>46.20</td>\n",
       "      <td>30.7</td>\n",
       "      <td>76.0</td>\n",
       "      <td>119.0</td>\n",
       "      <td>19.6</td>\n",
       "      <td>21.3</td>\n",
       "      <td>7.5</td>\n",
       "      <td>21.7</td>\n",
       "      <td>46.1</td>\n",
       "      <td>2</td>\n",
       "      <td>21.0</td>\n",
       "      <td>1</td>\n",
       "      <td>[2, 3, 14, 21]</td>\n",
       "    </tr>\n",
       "    <tr>\n",
       "      <th>73754</th>\n",
       "      <td>174.7</td>\n",
       "      <td>59.10</td>\n",
       "      <td>9.4</td>\n",
       "      <td>75.0</td>\n",
       "      <td>123.0</td>\n",
       "      <td>46.1</td>\n",
       "      <td>45.4</td>\n",
       "      <td>29.1</td>\n",
       "      <td>19.4</td>\n",
       "      <td>78.0</td>\n",
       "      <td>1</td>\n",
       "      <td>22.0</td>\n",
       "      <td>1</td>\n",
       "      <td>[2, 3, 14, 21]</td>\n",
       "    </tr>\n",
       "    <tr>\n",
       "      <th>73755</th>\n",
       "      <td>165.5</td>\n",
       "      <td>61.10</td>\n",
       "      <td>27.9</td>\n",
       "      <td>58.0</td>\n",
       "      <td>117.0</td>\n",
       "      <td>24.0</td>\n",
       "      <td>29.3</td>\n",
       "      <td>22.3</td>\n",
       "      <td>22.3</td>\n",
       "      <td>48.0</td>\n",
       "      <td>2</td>\n",
       "      <td>23.0</td>\n",
       "      <td>0</td>\n",
       "      <td>[0, 1, 5, 9, 16, 27, 28]</td>\n",
       "    </tr>\n",
       "    <tr>\n",
       "      <th>73756</th>\n",
       "      <td>173.9</td>\n",
       "      <td>60.70</td>\n",
       "      <td>12.1</td>\n",
       "      <td>79.0</td>\n",
       "      <td>134.0</td>\n",
       "      <td>40.9</td>\n",
       "      <td>42.9</td>\n",
       "      <td>18.7</td>\n",
       "      <td>20.1</td>\n",
       "      <td>70.7</td>\n",
       "      <td>1</td>\n",
       "      <td>20.0</td>\n",
       "      <td>0</td>\n",
       "      <td>[0, 1, 5, 9, 16, 27, 28]</td>\n",
       "    </tr>\n",
       "  </tbody>\n",
       "</table>\n",
       "<p>73757 rows × 14 columns</p>\n",
       "</div>"
      ],
      "text/plain": [
       "       HE_ht  HE_wt  body_fat  HE_dbp  HE_sbp  l_average  r_average  \\\n",
       "0      162.3  61.80      31.1    78.0   119.0       21.7       24.1   \n",
       "1      174.0  63.68      13.0    54.0   109.0       32.6       35.2   \n",
       "2      181.5  74.46      16.2    77.0   117.0       43.0       44.7   \n",
       "3      172.7  62.30      10.4    62.0    99.0       35.1       36.7   \n",
       "4      171.0  71.98      14.9    66.0   120.0       34.4       43.5   \n",
       "...      ...    ...       ...     ...     ...        ...        ...   \n",
       "73752  171.1  68.00      23.4    76.0   126.0       37.7       37.6   \n",
       "73753  145.9  46.20      30.7    76.0   119.0       19.6       21.3   \n",
       "73754  174.7  59.10       9.4    75.0   123.0       46.1       45.4   \n",
       "73755  165.5  61.10      27.9    58.0   117.0       24.0       29.3   \n",
       "73756  173.9  60.70      12.1    79.0   134.0       40.9       42.9   \n",
       "\n",
       "       FLEXIBILITY  HE_BMI  RELATIVE_GRIP  sex   age depression_scale  \\\n",
       "0             18.5    23.5           38.9    2  39.0                0   \n",
       "1             16.9    21.0           55.2    1  19.0                0   \n",
       "2             15.8    22.6           60.0    1  25.0                0   \n",
       "3              2.4    20.9           58.9    1  19.0                0   \n",
       "4             -3.4    24.6           60.4    1  19.0                0   \n",
       "...            ...     ...            ...  ...   ...              ...   \n",
       "73752         13.6    23.2           55.4    1  25.0                0   \n",
       "73753          7.5    21.7           46.1    2  21.0                1   \n",
       "73754         29.1    19.4           78.0    1  22.0                1   \n",
       "73755         22.3    22.3           48.0    2  23.0                0   \n",
       "73756         18.7    20.1           70.7    1  20.0                0   \n",
       "\n",
       "                     MultiLabel  \n",
       "0                           [1]  \n",
       "1                           [0]  \n",
       "2                           [9]  \n",
       "3                           [9]  \n",
       "4                           [9]  \n",
       "...                         ...  \n",
       "73752            [2, 3, 14, 21]  \n",
       "73753            [2, 3, 14, 21]  \n",
       "73754            [2, 3, 14, 21]  \n",
       "73755  [0, 1, 5, 9, 16, 27, 28]  \n",
       "73756  [0, 1, 5, 9, 16, 27, 28]  \n",
       "\n",
       "[73757 rows x 14 columns]"
      ]
     },
     "execution_count": 7,
     "metadata": {},
     "output_type": "execute_result"
    }
   ],
   "source": [
    "df.loc[df['depression_scale'] == 'a', \"depression_scale\"] = '0'\n",
    "df.loc[df['depression_scale'] == 'b', \"depression_scale\"] = '1'\n",
    "df.loc[df['depression_scale'] == 'c', \"depression_scale\"] = '2'\n",
    "df.loc[df['depression_scale'] == 'd', \"depression_scale\"] = '0'\n",
    "\n",
    "df"
   ]
  },
  {
   "cell_type": "markdown",
   "id": "e296d9ff",
   "metadata": {},
   "source": [
    "## Train, Test Set Split"
   ]
  },
  {
   "cell_type": "code",
   "execution_count": 8,
   "id": "d5c39802",
   "metadata": {},
   "outputs": [
    {
     "data": {
      "text/plain": [
       "array([[162.3, 61.8, 31.1, ..., 39.0, '0', '[1]'],\n",
       "       [174.0, 63.68, 13.0, ..., 19.0, '0', '[0]'],\n",
       "       [181.5, 74.46, 16.2, ..., 25.0, '0', '[9]'],\n",
       "       ...,\n",
       "       [174.7, 59.1, 9.4, ..., 22.0, '1', '[2, 3, 14, 21]'],\n",
       "       [165.5, 61.1, 27.9, ..., 23.0, '0', '[0, 1, 5, 9, 16, 27, 28]'],\n",
       "       [173.9, 60.7, 12.1, ..., 20.0, '0', '[0, 1, 5, 9, 16, 27, 28]']],\n",
       "      dtype=object)"
      ]
     },
     "execution_count": 8,
     "metadata": {},
     "output_type": "execute_result"
    }
   ],
   "source": [
    "dataset = df.values\n",
    "dataset"
   ]
  },
  {
   "cell_type": "code",
   "execution_count": 9,
   "id": "6bff0d01",
   "metadata": {},
   "outputs": [
    {
     "name": "stdout",
     "output_type": "stream",
     "text": [
      "훈련 데이터 개수 :  59005\n",
      "테스트 데이터 개수 :  14752\n"
     ]
    }
   ],
   "source": [
    "from sklearn.model_selection import train_test_split\n",
    "\n",
    "train_data, test_data = train_test_split(dataset, test_size = 0.2, random_state = 42)\n",
    "print(\"훈련 데이터 개수 : \", len(train_data))\n",
    "print(\"테스트 데이터 개수 : \", len(test_data))"
   ]
  },
  {
   "cell_type": "code",
   "execution_count": 10,
   "id": "3b697082",
   "metadata": {},
   "outputs": [],
   "source": [
    "X_train = train_data[:,:13]\n",
    "Y_train_raw = train_data[:,-1]"
   ]
  },
  {
   "cell_type": "code",
   "execution_count": 11,
   "id": "ffdbe322",
   "metadata": {},
   "outputs": [
    {
     "data": {
      "text/plain": [
       "array([[173.4, 95.2, 35.4, ..., 1, 17.0, '0'],\n",
       "       [170.4, 67.0, 22.1, ..., 1, 18.0, '0'],\n",
       "       [164.6, 52.9, 25.5, ..., 2, 38.0, '0'],\n",
       "       ...,\n",
       "       [173.7, 67.1, 17.3, ..., 1, 19.0, '0'],\n",
       "       [168.5, 70.5, 33.8, ..., 2, 20.0, '0'],\n",
       "       [148.1, 56.3, 38.7, ..., 2, 41.0, '0']], dtype=object)"
      ]
     },
     "execution_count": 11,
     "metadata": {},
     "output_type": "execute_result"
    }
   ],
   "source": [
    "# X variables 확인\n",
    "X_train"
   ]
  },
  {
   "cell_type": "markdown",
   "id": "c7961b0b",
   "metadata": {},
   "source": [
    "# Y 값 Multi-Labeling"
   ]
  },
  {
   "cell_type": "code",
   "execution_count": 12,
   "id": "25b28b5b",
   "metadata": {},
   "outputs": [
    {
     "data": {
      "text/plain": [
       "array(['[1]', '[0]', '[9]', '[28]', '[21]', '[16]', '[2]', '[2, 28]',\n",
       "       '[14]', '[3, 9]', '[3]', '[0, 2, 3, 21]', '[14, 21]', '[27]',\n",
       "       '[0, 1, 5, 9, 16, 27, 28]', '[0, 1, 5, 9, 16, 21, 27, 28]',\n",
       "       '[2, 14, 21]', '[5]', '[2, 21]', '[2, 3]', '[2, 3, 14, 21]',\n",
       "       '[2, 3, 21]', '[0, 1, 5, 9, 14, 16, 27, 28]', '[12]', '[8, 18]',\n",
       "       '[0, 1, 2, 3, 5, 9, 16, 21, 27, 28]',\n",
       "       '[0, 1, 2, 3, 5, 9, 14, 16, 21, 27, 28]', '[0, 2]', '[11]', '[24]',\n",
       "       '[10]', '[6, 10, 15, 20, 24, 25, 26]', '[2, 3, 21, 28]', '[22]',\n",
       "       '[20]', '[2, 3, 21, 27]', '[0, 1, 2, 5, 9, 14, 16, 21, 27, 28]',\n",
       "       '[0, 1, 2, 5, 9, 16, 27, 28]', '[2, 8, 18]', '[19]',\n",
       "       '[2, 3, 14, 21, 28]', '[2, 14, 21, 27]', '[2, 27]', '[23]',\n",
       "       '[14, 27]', '[2, 3, 27]', '[26]', '[0, 1, 2, 3, 5, 9, 16, 27, 28]',\n",
       "       '[21, 28]', '[14, 28]', '[6]',\n",
       "       '[0, 1, 2, 3, 5, 7, 8, 9, 14, 16, 21, 27, 28]',\n",
       "       '[6, 10, 15, 20, 22, 24, 25, 26]', '[7, 12, 13, 17, 18, 19, 23]',\n",
       "       '[11, 14]', '[11, 19]', '[17]', '[4, 11]', '[19, 28]', '[4]',\n",
       "       '[7, 8, 11]', '[2, 3, 14, 20, 21]',\n",
       "       '[7, 8, 12, 13, 17, 18, 19, 23]', '[20, 22]', '[21, 27]',\n",
       "       '[0, 21]', '[2, 3, 11, 14, 21]',\n",
       "       '[4, 7, 8, 11, 12, 13, 17, 18, 19, 23]', '[4, 23]', '[8]',\n",
       "       '[0, 1, 5, 9, 11, 16, 19, 27, 28]', '[2, 3, 28]', '[7, 8, 11, 27]',\n",
       "       '[7, 8, 11, 12, 13, 17, 18, 19, 23]',\n",
       "       '[0, 1, 5, 9, 14, 16, 21, 27, 28]',\n",
       "       '[0, 1, 5, 8, 9, 16, 18, 27, 28]', '[0, 2, 3, 14, 21]',\n",
       "       '[2, 3, 7, 8, 14, 21, 28]', '[11, 14, 21, 28]',\n",
       "       '[2, 3, 7, 8, 11, 14, 21]', '[2, 3, 7, 8, 11, 14, 21, 28]'],\n",
       "      dtype=object)"
      ]
     },
     "execution_count": 12,
     "metadata": {},
     "output_type": "execute_result"
    }
   ],
   "source": [
    "df['MultiLabel'].unique()"
   ]
  },
  {
   "cell_type": "code",
   "execution_count": 13,
   "id": "8b6c9b43",
   "metadata": {},
   "outputs": [
    {
     "data": {
      "text/plain": [
       "81"
      ]
     },
     "execution_count": 13,
     "metadata": {},
     "output_type": "execute_result"
    }
   ],
   "source": [
    "## 운동 묶음 라벨이 81개나 존재. Multi-labeling을 해야함\n",
    "df['MultiLabel'].nunique()"
   ]
  },
  {
   "cell_type": "code",
   "execution_count": 14,
   "id": "eb821c87",
   "metadata": {
    "scrolled": true
   },
   "outputs": [
    {
     "data": {
      "text/plain": [
       "array(['[14, 27]', '[6, 10, 15, 20, 22, 24, 25, 26]', '[2, 14, 21]', ...,\n",
       "       '[4, 7, 8, 11, 12, 13, 17, 18, 19, 23]', '[3]', '[2, 3]'],\n",
       "      dtype=object)"
      ]
     },
     "execution_count": 14,
     "metadata": {},
     "output_type": "execute_result"
    }
   ],
   "source": [
    "Y_train_raw"
   ]
  },
  {
   "cell_type": "markdown",
   "id": "2c92fb4b",
   "metadata": {},
   "source": [
    "# Y값이 string list 이기에 int list로 바꿔줌"
   ]
  },
  {
   "cell_type": "code",
   "execution_count": 15,
   "id": "d4e8e6aa",
   "metadata": {},
   "outputs": [],
   "source": [
    "Y_train_int = []\n",
    "for each in Y_train_raw:\n",
    "    each = each.replace('[','')\n",
    "    each = each.replace(']','')\n",
    "    temp_list = each.split(',')\n",
    "    temp_list = [int(x) for x in temp_list] \n",
    "    Y_train_int.append(temp_list)"
   ]
  },
  {
   "cell_type": "code",
   "execution_count": 16,
   "id": "2788c372",
   "metadata": {
    "scrolled": false
   },
   "outputs": [],
   "source": [
    "# Y_train_int"
   ]
  },
  {
   "cell_type": "code",
   "execution_count": 17,
   "id": "fdbc3700",
   "metadata": {},
   "outputs": [
    {
     "data": {
      "text/plain": [
       "array([[0, 0, 0, ..., 0, 1, 0],\n",
       "       [0, 0, 0, ..., 1, 0, 0],\n",
       "       [0, 0, 1, ..., 0, 0, 0],\n",
       "       ...,\n",
       "       [0, 0, 0, ..., 0, 0, 0],\n",
       "       [0, 0, 0, ..., 0, 0, 0],\n",
       "       [0, 0, 1, ..., 0, 0, 0]])"
      ]
     },
     "execution_count": 17,
     "metadata": {},
     "output_type": "execute_result"
    }
   ],
   "source": [
    "from sklearn.preprocessing import MultiLabelBinarizer\n",
    "mlb = MultiLabelBinarizer()\n",
    "\n",
    "Y_train = mlb.fit_transform(Y_train_int)\n",
    "Y_train"
   ]
  },
  {
   "cell_type": "markdown",
   "id": "9476d4ed",
   "metadata": {},
   "source": [
    "### Y 값 인코딩이 제대로 되었는지 확인"
   ]
  },
  {
   "cell_type": "code",
   "execution_count": 18,
   "id": "c66244db",
   "metadata": {},
   "outputs": [
    {
     "data": {
      "text/plain": [
       "array([ 0,  1,  2,  3,  4,  5,  6,  7,  8,  9, 10, 11, 12, 13, 14, 15, 16,\n",
       "       17, 18, 19, 20, 21, 22, 23, 24, 25, 26, 27, 28])"
      ]
     },
     "execution_count": 18,
     "metadata": {},
     "output_type": "execute_result"
    }
   ],
   "source": [
    "## 운동 29개로 라벨링 완료\n",
    "mlb.classes_"
   ]
  },
  {
   "cell_type": "code",
   "execution_count": 19,
   "id": "b53fa935",
   "metadata": {
    "scrolled": true
   },
   "outputs": [
    {
     "name": "stdout",
     "output_type": "stream",
     "text": [
      "운동 14, 27 을 가지고 있는 라벨이 동일한 binary 값으로 인코딩 되었음\n",
      "[14, 27]\n",
      "[14, 27]\n",
      "[0 0 0 0 0 0 0 0 0 0 0 0 0 0 1 0 0 0 0 0 0 0 0 0 0 0 0 1 0]\n",
      "[0 0 0 0 0 0 0 0 0 0 0 0 0 0 1 0 0 0 0 0 0 0 0 0 0 0 0 1 0]\n"
     ]
    }
   ],
   "source": [
    "print(\"운동 14, 27 을 가지고 있는 라벨이 동일한 binary 값으로 인코딩 되었음\")\n",
    "print(Y_train_int[0])\n",
    "print(Y_train_int[4])\n",
    "print(Y_train[0])\n",
    "print(Y_train[4])"
   ]
  },
  {
   "cell_type": "code",
   "execution_count": 20,
   "id": "cd228924",
   "metadata": {},
   "outputs": [],
   "source": [
    "import numpy as np"
   ]
  },
  {
   "cell_type": "code",
   "execution_count": 21,
   "id": "4a030156",
   "metadata": {},
   "outputs": [],
   "source": [
    "#test set 대상 똑같은 과정 반복\n",
    "X_test = test_data[:,:13]\n",
    "Y_test_raw = test_data[:,-1]"
   ]
  },
  {
   "cell_type": "code",
   "execution_count": 22,
   "id": "33105374",
   "metadata": {},
   "outputs": [
    {
     "data": {
      "text/plain": [
       "array([[152.7, 52.42, 32.9, ..., 2, 62.0, '0'],\n",
       "       [159.0, 60.36, 38.9, ..., 2, 55.0, '0'],\n",
       "       [154.5, 63.1, 36.8, ..., 2, 64.0, '0'],\n",
       "       ...,\n",
       "       [168.4, 80.2, 31.3, ..., 1, 25.0, '0'],\n",
       "       [155.5, 52.9, 37.8, ..., 2, 61.0, '0'],\n",
       "       [153.0, 44.3, 22.5, ..., 2, 49.0, '2']], dtype=object)"
      ]
     },
     "execution_count": 22,
     "metadata": {},
     "output_type": "execute_result"
    }
   ],
   "source": [
    "X_test"
   ]
  },
  {
   "cell_type": "code",
   "execution_count": 23,
   "id": "13fd65f3",
   "metadata": {},
   "outputs": [
    {
     "data": {
      "text/plain": [
       "array(['[2, 3, 14, 21]', '[2, 3, 21]',\n",
       "       '[0, 1, 2, 3, 5, 9, 14, 16, 21, 27, 28]', ..., '[2, 3, 21]',\n",
       "       '[0, 1, 2, 3, 5, 9, 14, 16, 21, 27, 28]', '[2, 3, 14, 21]'],\n",
       "      dtype=object)"
      ]
     },
     "execution_count": 23,
     "metadata": {},
     "output_type": "execute_result"
    }
   ],
   "source": [
    "Y_test_raw"
   ]
  },
  {
   "cell_type": "code",
   "execution_count": 24,
   "id": "f1e80699",
   "metadata": {},
   "outputs": [],
   "source": [
    "Y_test_int = []\n",
    "for each in Y_test_raw:\n",
    "    each = each.replace('[','')\n",
    "    each = each.replace(']','')\n",
    "    temp_list = each.split(',')\n",
    "    temp_list = [int(x) for x in temp_list] \n",
    "    Y_test_int.append(temp_list)"
   ]
  },
  {
   "cell_type": "code",
   "execution_count": 25,
   "id": "c4b5c6ad",
   "metadata": {},
   "outputs": [
    {
     "data": {
      "text/plain": [
       "array([[0, 0, 1, ..., 0, 0, 0],\n",
       "       [0, 0, 1, ..., 0, 0, 0],\n",
       "       [1, 1, 1, ..., 0, 1, 1],\n",
       "       ...,\n",
       "       [0, 0, 1, ..., 0, 0, 0],\n",
       "       [1, 1, 1, ..., 0, 1, 1],\n",
       "       [0, 0, 1, ..., 0, 0, 0]])"
      ]
     },
     "execution_count": 25,
     "metadata": {},
     "output_type": "execute_result"
    }
   ],
   "source": [
    "Y_test = mlb.fit_transform(Y_test_int)\n",
    "Y_test"
   ]
  },
  {
   "cell_type": "markdown",
   "id": "02dbf7f7",
   "metadata": {},
   "source": [
    "# Decision Tree Model"
   ]
  },
  {
   "cell_type": "code",
   "execution_count": 26,
   "id": "76ca0e24",
   "metadata": {},
   "outputs": [],
   "source": [
    "from sklearn import tree\n",
    "\n",
    "clf = tree.DecisionTreeClassifier()\n",
    "clf = clf.fit(X_train, Y_train)"
   ]
  },
  {
   "cell_type": "markdown",
   "id": "c81b9fc2",
   "metadata": {},
   "source": [
    "## train 시킨 모델에 X값을 하나 입력하면 아래와 같이 운동을 처방해줌\n",
    "## Binary인코딩한 값을 다시 original label로도 inverse_transform 가능"
   ]
  },
  {
   "cell_type": "code",
   "execution_count": 27,
   "id": "89db6fc6",
   "metadata": {},
   "outputs": [
    {
     "data": {
      "text/plain": [
       "[(4, 7, 8, 11, 12, 13, 17, 18, 19, 23)]"
      ]
     },
     "execution_count": 27,
     "metadata": {},
     "output_type": "execute_result"
    }
   ],
   "source": [
    "raw_Y = clf.predict([X_test[0]])\n",
    "mlb.inverse_transform(raw_Y)"
   ]
  },
  {
   "cell_type": "code",
   "execution_count": 28,
   "id": "f92353eb",
   "metadata": {},
   "outputs": [],
   "source": [
    "y_pred = clf.predict(X_test)"
   ]
  },
  {
   "cell_type": "code",
   "execution_count": 29,
   "id": "25d217eb",
   "metadata": {},
   "outputs": [],
   "source": [
    "y_true = Y_test"
   ]
  },
  {
   "cell_type": "markdown",
   "id": "0326b1b8",
   "metadata": {},
   "source": [
    "## Multi-label Confusion Matrix\n",
    "\n"
   ]
  },
  {
   "cell_type": "code",
   "execution_count": 30,
   "id": "915a46e6",
   "metadata": {},
   "outputs": [
    {
     "data": {
      "text/plain": [
       "array([[[10130,  2118],\n",
       "        [ 1858,   646]],\n",
       "\n",
       "       [[ 9680,  2311],\n",
       "        [ 2001,   760]],\n",
       "\n",
       "       [[10571,  1717],\n",
       "        [ 1801,   663]],\n",
       "\n",
       "       [[10221,  1756],\n",
       "        [ 1860,   915]],\n",
       "\n",
       "       [[11028,  1493],\n",
       "        [ 1412,   819]],\n",
       "\n",
       "       [[10155,  2111],\n",
       "        [ 1857,   629]],\n",
       "\n",
       "       [[11383,  1092],\n",
       "        [ 1100,  1177]],\n",
       "\n",
       "       [[10826,  1641],\n",
       "        [ 1458,   827]],\n",
       "\n",
       "       [[10412,  1703],\n",
       "        [ 1599,  1038]],\n",
       "\n",
       "       [[ 9950,  2170],\n",
       "        [ 1919,   713]],\n",
       "\n",
       "       [[11447,  1098],\n",
       "        [ 1087,  1120]],\n",
       "\n",
       "       [[10776,  1606],\n",
       "        [ 1484,   886]],\n",
       "\n",
       "       [[10912,  1589],\n",
       "        [ 1435,   816]],\n",
       "\n",
       "       [[10913,  1588],\n",
       "        [ 1435,   816]],\n",
       "\n",
       "       [[10395,  1860],\n",
       "        [ 1892,   605]],\n",
       "\n",
       "       [[11449,  1096],\n",
       "        [ 1087,  1120]],\n",
       "\n",
       "       [[10131,  2120],\n",
       "        [ 1865,   636]],\n",
       "\n",
       "       [[10912,  1588],\n",
       "        [ 1436,   816]],\n",
       "\n",
       "       [[10911,  1588],\n",
       "        [ 1437,   816]],\n",
       "\n",
       "       [[10885,  1595],\n",
       "        [ 1445,   827]],\n",
       "\n",
       "       [[11420,  1101],\n",
       "        [ 1099,  1132]],\n",
       "\n",
       "       [[11001,  1570],\n",
       "        [ 1605,   576]],\n",
       "\n",
       "       [[11182,  1096],\n",
       "        [ 1165,  1309]],\n",
       "\n",
       "       [[10913,  1587],\n",
       "        [ 1435,   817]],\n",
       "\n",
       "       [[11352,  1103],\n",
       "        [ 1111,  1186]],\n",
       "\n",
       "       [[11449,  1096],\n",
       "        [ 1087,  1120]],\n",
       "\n",
       "       [[11411,  1100],\n",
       "        [ 1093,  1148]],\n",
       "\n",
       "       [[ 8796,  2605],\n",
       "        [ 2385,   966]],\n",
       "\n",
       "       [[ 9509,  2314],\n",
       "        [ 2099,   830]]])"
      ]
     },
     "execution_count": 30,
     "metadata": {},
     "output_type": "execute_result"
    }
   ],
   "source": [
    "from sklearn.metrics import multilabel_confusion_matrix\n",
    "multilabel_confusion_matrix(y_true, y_pred)"
   ]
  },
  {
   "cell_type": "markdown",
   "id": "4713133a",
   "metadata": {},
   "source": [
    "## Classification Report"
   ]
  },
  {
   "cell_type": "code",
   "execution_count": 31,
   "id": "fc76f342",
   "metadata": {},
   "outputs": [
    {
     "name": "stdout",
     "output_type": "stream",
     "text": [
      "              precision    recall  f1-score   support\n",
      "\n",
      "      Exer 0       0.23      0.26      0.25      2504\n",
      "      Exer 1       0.25      0.28      0.26      2761\n",
      "      Exer 2       0.28      0.27      0.27      2464\n",
      "      Exer 3       0.34      0.33      0.34      2775\n",
      "      Exer 4       0.35      0.37      0.36      2231\n",
      "      Exer 5       0.23      0.25      0.24      2486\n",
      "      Exer 6       0.52      0.52      0.52      2277\n",
      "      Exer 7       0.34      0.36      0.35      2285\n",
      "      Exer 8       0.38      0.39      0.39      2637\n",
      "      Exer 9       0.25      0.27      0.26      2632\n",
      "     Exer 10       0.50      0.51      0.51      2207\n",
      "     Exer 11       0.36      0.37      0.36      2370\n",
      "     Exer 12       0.34      0.36      0.35      2251\n",
      "     Exer 13       0.34      0.36      0.35      2251\n",
      "     Exer 14       0.25      0.24      0.24      2497\n",
      "     Exer 15       0.51      0.51      0.51      2207\n",
      "    Exer 16        0.23      0.25      0.24      2501\n",
      "    Exer 17        0.34      0.36      0.35      2252\n",
      "    Exer 18        0.34      0.36      0.35      2253\n",
      "    Exer 19        0.34      0.36      0.35      2272\n",
      "    Exer 20        0.51      0.51      0.51      2231\n",
      "    Exer 21        0.27      0.26      0.27      2181\n",
      "    Exer 22        0.54      0.53      0.54      2474\n",
      "    Exer 23        0.34      0.36      0.35      2252\n",
      "    Exer 24        0.52      0.52      0.52      2297\n",
      "    Exer 25        0.51      0.51      0.51      2207\n",
      "    Exer 26        0.51      0.51      0.51      2241\n",
      "    Exer 27        0.27      0.29      0.28      3351\n",
      "    Exer 28        0.26      0.28      0.27      2929\n",
      "\n",
      "   micro avg       0.35      0.37      0.36     70276\n",
      "   macro avg       0.36      0.37      0.37     70276\n",
      "weighted avg       0.35      0.37      0.36     70276\n",
      " samples avg       0.34      0.35      0.31     70276\n",
      "\n"
     ]
    },
    {
     "name": "stderr",
     "output_type": "stream",
     "text": [
      "/opt/homebrew/lib/python3.10/site-packages/sklearn/metrics/_classification.py:1334: UndefinedMetricWarning: Precision and F-score are ill-defined and being set to 0.0 in samples with no predicted labels. Use `zero_division` parameter to control this behavior.\n",
      "  _warn_prf(average, modifier, msg_start, len(result))\n"
     ]
    }
   ],
   "source": [
    "from sklearn.metrics import classification_report\n",
    "\n",
    "label_names = ['Exer 0', 'Exer 1', 'Exer 2', 'Exer 3', 'Exer 4', 'Exer 5', 'Exer 6', 'Exer 7', \n",
    "               'Exer 8', 'Exer 9', 'Exer 10', 'Exer 11', 'Exer 12','Exer 13','Exer 14','Exer 15',\n",
    "               'Exer 16 ','Exer 17 ','Exer 18 ','Exer 19 ','Exer 20 ','Exer 21 ','Exer 22 ',\n",
    "               'Exer 23 ','Exer 24 ','Exer 25 ','Exer 26 ','Exer 27 ','Exer 28 ']\n",
    "\n",
    "print(classification_report(y_true, y_pred,target_names=label_names))"
   ]
  },
  {
   "cell_type": "code",
   "execution_count": 32,
   "id": "c37805fe",
   "metadata": {},
   "outputs": [
    {
     "name": "stdout",
     "output_type": "stream",
     "text": [
      "Precision for each class:  [0.23371925 0.24747639 0.27857143 0.34256833 0.35423875 0.22956204\n",
      " 0.51873072 0.33508914 0.37869391 0.24731183 0.50495942 0.35553772\n",
      " 0.33929314 0.33943428 0.24543611 0.50541516 0.23076923 0.33943428\n",
      " 0.33943428 0.34145334 0.50694133 0.26840634 0.54428274 0.33985025\n",
      " 0.51813019 0.50541516 0.51067616 0.27051246 0.26399491]\n",
      "Accuracy  0.2214614967462039\n"
     ]
    }
   ],
   "source": [
    "from sklearn import metrics\n",
    "print(\"Precision for each class: \", metrics.precision_score(y_true, y_pred, average=None))  \n",
    "print(\"Accuracy \", metrics.accuracy_score(y_true, y_pred))  "
   ]
  },
  {
   "cell_type": "code",
   "execution_count": 33,
   "id": "548d6223",
   "metadata": {},
   "outputs": [
    {
     "name": "stdout",
     "output_type": "stream",
     "text": [
      "micro: 0.35\n",
      "macro: 0.36 \n",
      "weighted: 0.35 \n",
      "samples: 0.34 \n"
     ]
    },
    {
     "name": "stderr",
     "output_type": "stream",
     "text": [
      "/opt/homebrew/lib/python3.10/site-packages/sklearn/metrics/_classification.py:1334: UndefinedMetricWarning: Precision is ill-defined and being set to 0.0 in samples with no predicted labels. Use `zero_division` parameter to control this behavior.\n",
      "  _warn_prf(average, modifier, msg_start, len(result))\n"
     ]
    }
   ],
   "source": [
    "## Precision\n",
    "print(\"micro: {:.2f}\".format(metrics.precision_score(y_true, y_pred, average='micro')))\n",
    "print(\"macro: {:.2f} \".format( metrics.precision_score(y_true, y_pred, average='macro')))\n",
    "print(\"weighted: {:.2f} \".format( metrics.precision_score(y_true, y_pred, average='weighted')))\n",
    "print(\"samples: {:.2f} \".format( metrics.precision_score(y_true, y_pred, average='samples')))  "
   ]
  },
  {
   "cell_type": "code",
   "execution_count": null,
   "id": "67ac90ab",
   "metadata": {},
   "outputs": [],
   "source": []
  }
 ],
 "metadata": {
  "kernelspec": {
   "display_name": "Python 3 (ipykernel)",
   "language": "python",
   "name": "python3"
  },
  "language_info": {
   "codemirror_mode": {
    "name": "ipython",
    "version": 3
   },
   "file_extension": ".py",
   "mimetype": "text/x-python",
   "name": "python",
   "nbconvert_exporter": "python",
   "pygments_lexer": "ipython3",
   "version": "3.10.7"
  }
 },
 "nbformat": 4,
 "nbformat_minor": 5
}
